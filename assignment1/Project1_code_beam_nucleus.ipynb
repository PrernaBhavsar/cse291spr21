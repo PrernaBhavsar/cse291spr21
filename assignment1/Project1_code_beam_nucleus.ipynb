{
  "nbformat": 4,
  "nbformat_minor": 0,
  "metadata": {
    "kernelspec": {
      "display_name": "Python 3.6.9 64-bit ('py3': conda)",
      "language": "python",
      "name": "python36964bitpy3conda309b736414e2462b91ce2d0511a095e1"
    },
    "language_info": {
      "codemirror_mode": {
        "name": "ipython",
        "version": 3
      },
      "file_extension": ".py",
      "mimetype": "text/x-python",
      "name": "python",
      "nbconvert_exporter": "python",
      "pygments_lexer": "ipython3",
      "version": "3.7.10"
    },
    "colab": {
      "name": "Project1_code_beam_nucleus.ipynb",
      "provenance": [],
      "collapsed_sections": [
        "Gf0SoWlK0zON",
        "-RtnYe34RUCA",
        "lMJmIi80XJMd",
        "Gh-YLTUdYTV6"
      ]
    },
    "accelerator": "GPU"
  },
  "cells": [
    {
      "cell_type": "markdown",
      "metadata": {
        "id": "dEHMMN8q0zN3"
      },
      "source": [
        "## Introduction\n",
        "\n",
        "In this notebook we will be adding a few improvements - packed padded sequences and masking - to the model from the previous notebook. Packed padded sequences are used to tell our RNN to skip over padding tokens in our encoder. Masking explicitly forces the model to ignore certain values, such as attention over padded elements. Both of these techniques are commonly used in NLP. \n",
        "\n",
        "We will also look at how to use our model for inference, by giving it a sentence, seeing what it translates it as and seeing where exactly it pays attention to when translating each word.\n",
        "\n",
        "Finally, we'll use the BLEU metric to measure the quality of our translations.\n",
        "\n",
        "## Preparing Data\n",
        "\n",
        "First, we'll import all the modules as before, with the addition of the `matplotlib` modules used for viewing the attention."
      ]
    },
    {
      "cell_type": "code",
      "metadata": {
        "id": "HGeVMeYF2Yhc",
        "colab": {
          "base_uri": "https://localhost:8080/"
        },
        "outputId": "bcc3ff3a-dbf0-448a-b727-3a49b620a858"
      },
      "source": [
        "!pip install torchtext"
      ],
      "execution_count": 1,
      "outputs": [
        {
          "output_type": "stream",
          "text": [
            "Requirement already satisfied: torchtext in /usr/local/lib/python3.7/dist-packages (0.9.1)\n",
            "Requirement already satisfied: numpy in /usr/local/lib/python3.7/dist-packages (from torchtext) (1.19.5)\n",
            "Requirement already satisfied: tqdm in /usr/local/lib/python3.7/dist-packages (from torchtext) (4.41.1)\n",
            "Requirement already satisfied: requests in /usr/local/lib/python3.7/dist-packages (from torchtext) (2.23.0)\n",
            "Requirement already satisfied: torch==1.8.1 in /usr/local/lib/python3.7/dist-packages (from torchtext) (1.8.1+cu101)\n",
            "Requirement already satisfied: urllib3!=1.25.0,!=1.25.1,<1.26,>=1.21.1 in /usr/local/lib/python3.7/dist-packages (from requests->torchtext) (1.24.3)\n",
            "Requirement already satisfied: chardet<4,>=3.0.2 in /usr/local/lib/python3.7/dist-packages (from requests->torchtext) (3.0.4)\n",
            "Requirement already satisfied: certifi>=2017.4.17 in /usr/local/lib/python3.7/dist-packages (from requests->torchtext) (2020.12.5)\n",
            "Requirement already satisfied: idna<3,>=2.5 in /usr/local/lib/python3.7/dist-packages (from requests->torchtext) (2.10)\n",
            "Requirement already satisfied: typing-extensions in /usr/local/lib/python3.7/dist-packages (from torch==1.8.1->torchtext) (3.7.4.3)\n"
          ],
          "name": "stdout"
        }
      ]
    },
    {
      "cell_type": "code",
      "metadata": {
        "colab": {
          "base_uri": "https://localhost:8080/"
        },
        "id": "6AveVMP3OSfs",
        "outputId": "aee8fb5d-1949-4495-b6f5-b9cea46db97b"
      },
      "source": [
        "from google.colab import drive\n",
        "drive.mount('/content/drive')"
      ],
      "execution_count": 2,
      "outputs": [
        {
          "output_type": "stream",
          "text": [
            "Mounted at /content/drive\n"
          ],
          "name": "stdout"
        }
      ]
    },
    {
      "cell_type": "code",
      "metadata": {
        "colab": {
          "base_uri": "https://localhost:8080/"
        },
        "id": "sOWLoLGMObFy",
        "outputId": "9d04ab95-d4ba-4b70-ad38-820ac33fec7d"
      },
      "source": [
        "%cd '/content/drive/MyDrive/CSE291B00_NLP/Project1'"
      ],
      "execution_count": 3,
      "outputs": [
        {
          "output_type": "stream",
          "text": [
            "/content/drive/MyDrive/CSE291B00_NLP/Project1\n"
          ],
          "name": "stdout"
        }
      ]
    },
    {
      "cell_type": "code",
      "metadata": {
        "colab": {
          "base_uri": "https://localhost:8080/"
        },
        "id": "otrRWK6n2eD-",
        "outputId": "47559da8-4a7e-4e49-cfe3-e3ac281cfc4f"
      },
      "source": [
        "import spacy.cli\n",
        "spacy.cli.download('de_core_news_sm')\n",
        "spacy.cli.download('en_core_web_sm')"
      ],
      "execution_count": 4,
      "outputs": [
        {
          "output_type": "stream",
          "text": [
            "\u001b[38;5;2m✔ Download and installation successful\u001b[0m\n",
            "You can now load the model via spacy.load('de_core_news_sm')\n",
            "\u001b[38;5;2m✔ Download and installation successful\u001b[0m\n",
            "You can now load the model via spacy.load('en_core_web_sm')\n"
          ],
          "name": "stdout"
        }
      ]
    },
    {
      "cell_type": "code",
      "metadata": {
        "id": "OZ6aNQut0zOB"
      },
      "source": [
        "import torch\n",
        "import torch.nn as nn\n",
        "import torch.optim as optim\n",
        "import torch.nn.functional as F\n",
        "\n",
        "from torchtext.legacy.datasets import Multi30k\n",
        "from torchtext.legacy.data import Field, BucketIterator, TabularDataset\n",
        "\n",
        "import matplotlib.pyplot as plt\n",
        "import matplotlib.ticker as ticker\n",
        "\n",
        "import spacy\n",
        "import numpy as np\n",
        "\n",
        "import random\n",
        "import math\n",
        "import time\n",
        "import json"
      ],
      "execution_count": 5,
      "outputs": []
    },
    {
      "cell_type": "markdown",
      "metadata": {
        "id": "9nKJVLr20zOD"
      },
      "source": [
        "Next, we'll set the random seed for reproducability."
      ]
    },
    {
      "cell_type": "code",
      "metadata": {
        "id": "Xq-3wwgw0zOD"
      },
      "source": [
        "SEED = 1234\n",
        "\n",
        "random.seed(SEED)\n",
        "np.random.seed(SEED)\n",
        "torch.manual_seed(SEED)\n",
        "torch.cuda.manual_seed(SEED)\n",
        "torch.backends.cudnn.deterministic = True"
      ],
      "execution_count": 6,
      "outputs": []
    },
    {
      "cell_type": "markdown",
      "metadata": {
        "id": "ucfdeTjM0zOE"
      },
      "source": [
        "As before, we'll import spaCy and define the German and English tokenizers."
      ]
    },
    {
      "cell_type": "code",
      "metadata": {
        "id": "U4hKQbPy0zOE"
      },
      "source": [
        "spacy_de = spacy.load('de_core_news_sm')\n",
        "spacy_en = spacy.load('en_core_web_sm')"
      ],
      "execution_count": 7,
      "outputs": []
    },
    {
      "cell_type": "code",
      "metadata": {
        "id": "pfdqZD0M0zOE"
      },
      "source": [
        "def tokenize_de(text):\n",
        "    \"\"\"\n",
        "    Tokenizes German text from a string into a list of strings\n",
        "    \"\"\"\n",
        "    return [tok.text for tok in spacy_de.tokenizer(text)]\n",
        "\n",
        "def tokenize_en(text):\n",
        "    \"\"\"\n",
        "    Tokenizes English text from a string into a list of strings\n",
        "    \"\"\"\n",
        "    return [tok.text for tok in spacy_en.tokenizer(text)]"
      ],
      "execution_count": 8,
      "outputs": []
    },
    {
      "cell_type": "markdown",
      "metadata": {
        "id": "hQzOkGHs0zOF"
      },
      "source": [
        "When using packed padded sequences, we need to tell PyTorch how long the actual (non-padded) sequences are. Luckily for us, TorchText's `Field` objects allow us to use the `include_lengths` argument, this will cause our `batch.src` to be a tuple. The first element of the tuple is the same as before, a batch of numericalized source sentence as a tensor, and the second element is the non-padded lengths of each source sentence within the batch."
      ]
    },
    {
      "cell_type": "code",
      "metadata": {
        "id": "5SVFZ21Z0zOG"
      },
      "source": [
        "SRC = Field(\n",
        "#   tokenize = tokenize_de, \n",
        "    init_token = '<sos>', \n",
        "    eos_token = '<eos>', \n",
        "    lower = True, \n",
        "    include_lengths = True\n",
        ")\n",
        "\n",
        "TRG = Field(\n",
        "    #tokenize = tokenize_en, \n",
        "    init_token = '<sos>', \n",
        "    eos_token = '<eos>', \n",
        "    lower = True\n",
        ")"
      ],
      "execution_count": 9,
      "outputs": []
    },
    {
      "cell_type": "markdown",
      "metadata": {
        "id": "SU6sxX3k0zOH"
      },
      "source": [
        "We then load the data."
      ]
    },
    {
      "cell_type": "code",
      "metadata": {
        "id": "MvZu5kP70zOI",
        "colab": {
          "base_uri": "https://localhost:8080/"
        },
        "outputId": "689d5543-eb67-463d-cd34-395adf627bd0"
      },
      "source": [
        "# NOTE: this line takes a long time to run on Colab so \n",
        "# instead we'll load the already tokenized json dataset\n",
        "# from Github\n",
        "#\n",
        "# train_data, valid_data, test_data = Multi30k.splits(exts = ('.de', '.en'), \n",
        "#                                                     fields = (SRC, TRG))\n",
        "\n",
        "# fetch from Github repo\n",
        "!wget https://raw.githubusercontent.com/tberg12/cse291spr21/main/assignment1/train.json\n",
        "!wget https://raw.githubusercontent.com/tberg12/cse291spr21/main/assignment1/valid.json\n",
        "!wget https://raw.githubusercontent.com/tberg12/cse291spr21/main/assignment1/test.json\n",
        "\n",
        "# and load to same variables\n",
        "fields = {'src': ('src', SRC), 'trg': ('trg', TRG)}\n",
        "train_data, valid_data, test_data = TabularDataset.splits(\n",
        "    path = '.',\n",
        "    train = 'train.json',\n",
        "    validation = 'valid.json',\n",
        "    test = 'test.json',\n",
        "    format = 'json',\n",
        "    fields = fields\n",
        ")"
      ],
      "execution_count": 10,
      "outputs": [
        {
          "output_type": "stream",
          "text": [
            "--2021-05-08 00:12:19--  https://raw.githubusercontent.com/tberg12/cse291spr21/main/assignment1/train.json\n",
            "Resolving raw.githubusercontent.com (raw.githubusercontent.com)... 185.199.108.133, 185.199.109.133, 185.199.110.133, ...\n",
            "Connecting to raw.githubusercontent.com (raw.githubusercontent.com)|185.199.108.133|:443... connected.\n",
            "HTTP request sent, awaiting response... 200 OK\n",
            "Length: 6894783 (6.6M) [text/plain]\n",
            "Saving to: ‘train.json.3’\n",
            "\n",
            "train.json.3        100%[===================>]   6.58M  --.-KB/s    in 0.1s    \n",
            "\n",
            "2021-05-08 00:12:19 (50.9 MB/s) - ‘train.json.3’ saved [6894783/6894783]\n",
            "\n",
            "--2021-05-08 00:12:19--  https://raw.githubusercontent.com/tberg12/cse291spr21/main/assignment1/valid.json\n",
            "Resolving raw.githubusercontent.com (raw.githubusercontent.com)... 185.199.109.133, 185.199.111.133, 185.199.108.133, ...\n",
            "Connecting to raw.githubusercontent.com (raw.githubusercontent.com)|185.199.109.133|:443... connected.\n",
            "HTTP request sent, awaiting response... 200 OK\n",
            "Length: 244768 (239K) [text/plain]\n",
            "Saving to: ‘valid.json.3’\n",
            "\n",
            "valid.json.3        100%[===================>] 239.03K  --.-KB/s    in 0.02s   \n",
            "\n",
            "2021-05-08 00:12:19 (14.1 MB/s) - ‘valid.json.3’ saved [244768/244768]\n",
            "\n",
            "--2021-05-08 00:12:19--  https://raw.githubusercontent.com/tberg12/cse291spr21/main/assignment1/test.json\n",
            "Resolving raw.githubusercontent.com (raw.githubusercontent.com)... 185.199.108.133, 185.199.109.133, 185.199.110.133, ...\n",
            "Connecting to raw.githubusercontent.com (raw.githubusercontent.com)|185.199.108.133|:443... connected.\n",
            "HTTP request sent, awaiting response... 200 OK\n",
            "Length: 234161 (229K) [text/plain]\n",
            "Saving to: ‘test.json.3’\n",
            "\n",
            "test.json.3         100%[===================>] 228.67K  --.-KB/s    in 0.02s   \n",
            "\n",
            "2021-05-08 00:12:19 (12.5 MB/s) - ‘test.json.3’ saved [234161/234161]\n",
            "\n"
          ],
          "name": "stdout"
        }
      ]
    },
    {
      "cell_type": "markdown",
      "metadata": {
        "id": "80rhfOut0zOJ"
      },
      "source": [
        "And build the vocabulary."
      ]
    },
    {
      "cell_type": "code",
      "metadata": {
        "id": "qcXvsJE00zOJ"
      },
      "source": [
        "SRC.build_vocab(train_data, min_freq = 2)\n",
        "TRG.build_vocab(train_data, min_freq = 2)"
      ],
      "execution_count": 11,
      "outputs": []
    },
    {
      "cell_type": "markdown",
      "metadata": {
        "id": "SLZezWOa0zOJ"
      },
      "source": [
        "Next, we handle the iterators.\n",
        "\n",
        "One quirk about packed padded sequences is that all elements in the batch need to be sorted by their non-padded lengths in descending order, i.e. the first sentence in the batch needs to be the longest. We use two arguments of the iterator to handle this, `sort_within_batch` which tells the iterator that the contents of the batch need to be sorted, and `sort_key` a function which tells the iterator how to sort the elements in the batch. Here, we sort by the length of the `src` sentence."
      ]
    },
    {
      "cell_type": "code",
      "metadata": {
        "id": "rQ2wQPh70zOK"
      },
      "source": [
        "BATCH_SIZE = 128\n",
        "\n",
        "device = torch.device('cuda' if torch.cuda.is_available() else 'cpu')\n",
        "\n",
        "train_iterator, valid_iterator, test_iterator = BucketIterator.splits(\n",
        "    (train_data, valid_data, test_data), \n",
        "     batch_size = BATCH_SIZE,\n",
        "     sort_within_batch = True,\n",
        "     sort_key = lambda x : len(x.src),\n",
        "     device = device)"
      ],
      "execution_count": 12,
      "outputs": []
    },
    {
      "cell_type": "markdown",
      "metadata": {
        "id": "Cyvh32kK0zOK"
      },
      "source": [
        "## Building the Model\n",
        "\n",
        "### Encoder\n",
        "\n",
        "Next up, we define the encoder.\n",
        "\n",
        "The changes here all within the `forward` method. It now accepts the lengths of the source sentences as well as the sentences themselves. \n",
        "\n",
        "After the source sentence (padded automatically within the iterator) has been embedded, we can then use `pack_padded_sequence` on it with the lengths of the sentences. Note that the tensor containing the lengths of the sequences must be a CPU tensor as of the latest version of PyTorch, which we explicitly do so with `to('cpu')`. `packed_embedded` will then be our packed padded sequence. This can be then fed to our RNN as normal which will return `packed_outputs`, a packed tensor containing all of the hidden states from the sequence, and `hidden` which is simply the final hidden state from our sequence. `hidden` is a standard tensor and not packed in any way, the only difference is that as the input was a packed sequence, this tensor is from the final **non-padded element** in the sequence.\n",
        "\n",
        "We then unpack our `packed_outputs` using `pad_packed_sequence` which returns the `outputs` and the lengths of each, which we don't need. \n",
        "\n",
        "The first dimension of `outputs` is the padded sequence lengths however due to using a packed padded sequence the values of tensors when a padding token was the input will be all zeros."
      ]
    },
    {
      "cell_type": "code",
      "metadata": {
        "id": "HF_d_m8L0zOL"
      },
      "source": [
        "class Encoder(nn.Module):\n",
        "    def __init__(self, input_dim, emb_dim, enc_hid_dim, dec_hid_dim, dropout):\n",
        "        super().__init__()\n",
        "        \n",
        "        self.embedding = nn.Embedding(input_dim, emb_dim)\n",
        "        \n",
        "        self.rnn = nn.GRU(emb_dim, enc_hid_dim, bidirectional = True)\n",
        "        \n",
        "        self.fc = nn.Linear(enc_hid_dim * 2, dec_hid_dim)\n",
        "        \n",
        "        self.dropout = nn.Dropout(dropout)\n",
        "        \n",
        "    def forward(self, src, src_len):\n",
        "        \n",
        "        #src = [src len, batch size]\n",
        "        #src_len = [batch size]\n",
        "        \n",
        "        embedded = self.dropout(self.embedding(src))\n",
        "        \n",
        "        #embedded = [src len, batch size, emb dim]\n",
        "                \n",
        "        #need to explicitly put lengths on cpu!\n",
        "        packed_embedded = nn.utils.rnn.pack_padded_sequence(embedded, src_len.to('cpu'))\n",
        "                \n",
        "        packed_outputs, hidden = self.rnn(packed_embedded)\n",
        "                                 \n",
        "        #packed_outputs is a packed sequence containing all hidden states\n",
        "        #hidden is now from the final non-padded element in the batch\n",
        "            \n",
        "        outputs, _ = nn.utils.rnn.pad_packed_sequence(packed_outputs) \n",
        "            \n",
        "        #outputs is now a non-packed sequence, all hidden states obtained\n",
        "        #  when the input is a pad token are all zeros\n",
        "            \n",
        "        #outputs = [src len, batch size, hid dim * num directions]\n",
        "        #hidden = [n layers * num directions, batch size, hid dim]\n",
        "        \n",
        "        #hidden is stacked [forward_1, backward_1, forward_2, backward_2, ...]\n",
        "        #outputs are always from the last layer\n",
        "        \n",
        "        #hidden [-2, :, : ] is the last of the forwards RNN \n",
        "        #hidden [-1, :, : ] is the last of the backwards RNN\n",
        "        \n",
        "        #initial decoder hidden is final hidden state of the forwards and backwards \n",
        "        #  encoder RNNs fed through a linear layer\n",
        "        hidden = torch.tanh(self.fc(torch.cat((hidden[-2,:,:], hidden[-1,:,:]), dim = 1)))\n",
        "        \n",
        "        #outputs = [src len, batch size, enc hid dim * 2]\n",
        "        #hidden = [batch size, dec hid dim]\n",
        "        \n",
        "        return outputs, hidden"
      ],
      "execution_count": 13,
      "outputs": []
    },
    {
      "cell_type": "markdown",
      "metadata": {
        "id": "Gf0SoWlK0zON"
      },
      "source": [
        "### Attention\n",
        "\n",
        "The attention module is where we calculate the attention values over the source sentence. \n",
        "\n",
        "Previously, we allowed this module to \"pay attention\" to padding tokens within the source sentence. However, using *masking*, we can force the attention to only be over non-padding elements.\n",
        "\n",
        "The `forward` method now takes a `mask` input. This is a **[batch size, source sentence length]** tensor that is 1 when the source sentence token is not a padding token, and 0 when it is a padding token. For example, if the source sentence is: [\"hello\", \"how\", \"are\", \"you\", \"?\", `<pad>`, `<pad>`], then the mask would be [1, 1, 1, 1, 1, 0, 0].\n",
        "\n",
        "We apply the mask after the attention has been calculated, but before it has been normalized by the `softmax` function. It is applied using `masked_fill`. This fills the tensor at each element where the first argument (`mask == 0`) is true, with the value given by the second argument (`-1e10`). In other words, it will take the un-normalized attention values, and change the attention values over padded elements to be `-1e10`. As these numbers will be miniscule compared to the other values they will become zero when passed through the `softmax` layer, ensuring no attention is payed to padding tokens in the source sentence."
      ]
    },
    {
      "cell_type": "code",
      "metadata": {
        "id": "i__63Xhg0zOO"
      },
      "source": [
        "class Attention(nn.Module):\n",
        "    def __init__(self, enc_hid_dim, dec_hid_dim):\n",
        "        super().__init__()\n",
        "        \n",
        "        self.attn = nn.Linear((enc_hid_dim * 2) + dec_hid_dim, dec_hid_dim)\n",
        "        self.v = nn.Linear(dec_hid_dim, 1, bias = False)\n",
        "        \n",
        "    def forward(self, hidden, encoder_outputs, mask):\n",
        "        \n",
        "        #hidden = [batch size, dec hid dim]\n",
        "        #encoder_outputs = [src len, batch size, enc hid dim * 2]\n",
        "        \n",
        "        batch_size = encoder_outputs.shape[1]\n",
        "        src_len = encoder_outputs.shape[0]\n",
        "        \n",
        "        #repeat decoder hidden state src_len times\n",
        "        hidden = hidden.unsqueeze(1).repeat(1, src_len, 1)\n",
        "  \n",
        "        encoder_outputs = encoder_outputs.permute(1, 0, 2)\n",
        "        \n",
        "        #hidden = [batch size, src len, dec hid dim]\n",
        "        #encoder_outputs = [batch size, src len, enc hid dim * 2]\n",
        "        \n",
        "        energy = torch.tanh(self.attn(torch.cat((hidden, encoder_outputs), dim = 2))) \n",
        "        \n",
        "        #energy = [batch size, src len, dec hid dim]\n",
        "\n",
        "        attention = self.v(energy).squeeze(2)\n",
        "        \n",
        "        #attention = [batch size, src len]\n",
        "        \n",
        "        attention = attention.masked_fill(mask == 0, -1e10)\n",
        "        \n",
        "        return F.softmax(attention, dim = 1)"
      ],
      "execution_count": 14,
      "outputs": []
    },
    {
      "cell_type": "markdown",
      "metadata": {
        "id": "F4yKCo3Q0zOP"
      },
      "source": [
        "### Decoder\n",
        "\n",
        "The decoder only needs a few small changes. It needs to accept a mask over the source sentence and pass this to the attention module. As we want to view the values of attention during inference, we also return the attention tensor."
      ]
    },
    {
      "cell_type": "code",
      "metadata": {
        "id": "qeCQmAA80zOP"
      },
      "source": [
        "class Decoder(nn.Module):\n",
        "    def __init__(self, output_dim, emb_dim, enc_hid_dim, dec_hid_dim, dropout, attention):\n",
        "        super().__init__()\n",
        "\n",
        "        self.output_dim = output_dim\n",
        "        self.attention = attention\n",
        "        \n",
        "        self.embedding = nn.Embedding(output_dim, emb_dim)\n",
        "        \n",
        "        self.rnn = nn.GRU((enc_hid_dim * 2) + emb_dim, dec_hid_dim)\n",
        "        \n",
        "        self.fc_out = nn.Linear((enc_hid_dim * 2) + dec_hid_dim + emb_dim, output_dim)\n",
        "        \n",
        "        self.dropout = nn.Dropout(dropout)\n",
        "        \n",
        "    def forward(self, input, hidden, encoder_outputs, mask):\n",
        "             \n",
        "        #input = [batch size]\n",
        "        #hidden = [batch size, dec hid dim]\n",
        "        #encoder_outputs = [src len, batch size, enc hid dim * 2]\n",
        "        #mask = [batch size, src len]\n",
        "        \n",
        "        input = input.unsqueeze(0)\n",
        "        \n",
        "        #input = [1, batch size]\n",
        "        \n",
        "        embedded = self.dropout(self.embedding(input))\n",
        "        \n",
        "        #embedded = [1, batch size, emb dim]\n",
        "        \n",
        "        a = self.attention(hidden, encoder_outputs, mask)\n",
        "                \n",
        "        #a = [batch size, src len]\n",
        "        \n",
        "        a = a.unsqueeze(1)\n",
        "        \n",
        "        #a = [batch size, 1, src len]\n",
        "        \n",
        "        encoder_outputs = encoder_outputs.permute(1, 0, 2)\n",
        "        \n",
        "        #encoder_outputs = [batch size, src len, enc hid dim * 2]\n",
        "        \n",
        "        weighted = torch.bmm(a, encoder_outputs)\n",
        "        \n",
        "        #weighted = [batch size, 1, enc hid dim * 2]\n",
        "        \n",
        "        weighted = weighted.permute(1, 0, 2)\n",
        "        \n",
        "        #weighted = [1, batch size, enc hid dim * 2]\n",
        "        \n",
        "        rnn_input = torch.cat((embedded, weighted), dim = 2)\n",
        "        \n",
        "        #rnn_input = [1, batch size, (enc hid dim * 2) + emb dim]\n",
        "            \n",
        "        output, hidden = self.rnn(rnn_input, hidden.unsqueeze(0))\n",
        "        \n",
        "        #output = [seq len, batch size, dec hid dim * n directions]\n",
        "        #hidden = [n layers * n directions, batch size, dec hid dim]\n",
        "        \n",
        "        #seq len, n layers and n directions will always be 1 in this decoder, therefore:\n",
        "        #output = [1, batch size, dec hid dim]\n",
        "        #hidden = [1, batch size, dec hid dim]\n",
        "        #this also means that output == hidden\n",
        "        assert (output == hidden).all()\n",
        "        \n",
        "        embedded = embedded.squeeze(0)\n",
        "        output = output.squeeze(0)\n",
        "        weighted = weighted.squeeze(0)\n",
        "        \n",
        "        prediction = self.fc_out(torch.cat((output, weighted, embedded), dim = 1))\n",
        "        \n",
        "        #prediction = [batch size, output dim]\n",
        "        \n",
        "        return prediction, hidden.squeeze(0), a.squeeze(1)"
      ],
      "execution_count": 15,
      "outputs": []
    },
    {
      "cell_type": "markdown",
      "metadata": {
        "id": "z9-UEyD70zOQ"
      },
      "source": [
        "### Seq2Seq\n",
        "\n",
        "The overarching seq2seq model also needs a few changes for packed padded sequences, masking and inference. \n",
        "\n",
        "We need to tell it what the indexes are for the pad token and also pass the source sentence lengths as input to the `forward` method.\n",
        "\n",
        "We use the pad token index to create the masks, by creating a mask tensor that is 1 wherever the source sentence is not equal to the pad token. This is all done within the `create_mask` function.\n",
        "\n",
        "The sequence lengths as needed to pass to the encoder to use packed padded sequences.\n",
        "\n",
        "The attention at each time-step is stored in the `attentions` "
      ]
    },
    {
      "cell_type": "code",
      "metadata": {
        "id": "h_4lyB4W0zOQ"
      },
      "source": [
        "class Seq2Seq(nn.Module):\n",
        "    def __init__(self, encoder, decoder, src_pad_idx, device):\n",
        "        super().__init__()\n",
        "        \n",
        "        self.encoder = encoder\n",
        "        self.decoder = decoder\n",
        "        self.src_pad_idx = src_pad_idx\n",
        "        self.device = device\n",
        "        \n",
        "    def create_mask(self, src):\n",
        "        mask = (src != self.src_pad_idx).permute(1, 0)\n",
        "        return mask\n",
        "        \n",
        "    def forward(self, src, src_len, trg, teacher_forcing_ratio = 0.5):\n",
        "        \n",
        "        #src = [src len, batch size]\n",
        "        #src_len = [batch size]\n",
        "        #trg = [trg len, batch size]\n",
        "        #teacher_forcing_ratio is probability to use teacher forcing\n",
        "        #e.g. if teacher_forcing_ratio is 0.75 we use teacher forcing 75% of the time\n",
        "                    \n",
        "        batch_size = src.shape[1]\n",
        "        trg_len = trg.shape[0]\n",
        "        trg_vocab_size = self.decoder.output_dim\n",
        "        \n",
        "        #tensor to store decoder outputs\n",
        "        outputs = torch.zeros(trg_len, batch_size, trg_vocab_size).to(self.device)\n",
        "        \n",
        "        #encoder_outputs is all hidden states of the input sequence, back and forwards\n",
        "        #hidden is the final forward and backward hidden states, passed through a linear layer\n",
        "        encoder_outputs, hidden = self.encoder(src, src_len)\n",
        "                \n",
        "        #first input to the decoder is the <sos> tokens\n",
        "        input = trg[0,:]\n",
        "        \n",
        "        mask = self.create_mask(src)\n",
        "\n",
        "        #mask = [batch size, src len]\n",
        "                \n",
        "        for t in range(1, trg_len):\n",
        "            \n",
        "            #insert input token embedding, previous hidden state, all encoder hidden states \n",
        "            #  and mask\n",
        "            #receive output tensor (predictions) and new hidden state\n",
        "            output, hidden, _ = self.decoder(input, hidden, encoder_outputs, mask)\n",
        "            \n",
        "            #place predictions in a tensor holding predictions for each token\n",
        "            outputs[t] = output\n",
        "            \n",
        "            #decide if we are going to use teacher forcing or not\n",
        "            teacher_force = random.random() < teacher_forcing_ratio\n",
        "            \n",
        "            #get the highest predicted token from our predictions\n",
        "            top1 = output.argmax(1) \n",
        "            \n",
        "            #if teacher forcing, use actual next token as next input\n",
        "            #if not, use predicted token\n",
        "            input = trg[t] if teacher_force else top1\n",
        "            \n",
        "        return outputs"
      ],
      "execution_count": 16,
      "outputs": []
    },
    {
      "cell_type": "markdown",
      "metadata": {
        "id": "GZ6jCpoG0zOQ"
      },
      "source": [
        "## Training the Seq2Seq Model\n",
        "\n",
        "Next up, initializing the model and placing it on the GPU."
      ]
    },
    {
      "cell_type": "code",
      "metadata": {
        "id": "1sWMMGzn0zOR"
      },
      "source": [
        "INPUT_DIM = len(SRC.vocab)\n",
        "OUTPUT_DIM = len(TRG.vocab)\n",
        "ENC_EMB_DIM = 256\n",
        "DEC_EMB_DIM = 256\n",
        "ENC_HID_DIM = 512\n",
        "DEC_HID_DIM = 512\n",
        "ENC_DROPOUT = 0.5\n",
        "DEC_DROPOUT = 0.5\n",
        "SRC_PAD_IDX = SRC.vocab.stoi[SRC.pad_token]\n",
        "\n",
        "attn = Attention(ENC_HID_DIM, DEC_HID_DIM)\n",
        "enc = Encoder(INPUT_DIM, ENC_EMB_DIM, ENC_HID_DIM, DEC_HID_DIM, ENC_DROPOUT)\n",
        "dec = Decoder(OUTPUT_DIM, DEC_EMB_DIM, ENC_HID_DIM, DEC_HID_DIM, DEC_DROPOUT, attn)\n",
        "\n",
        "model = Seq2Seq(enc, dec, SRC_PAD_IDX, device).to(device)"
      ],
      "execution_count": 17,
      "outputs": []
    },
    {
      "cell_type": "markdown",
      "metadata": {
        "id": "46y0OFEh0zOR"
      },
      "source": [
        "Then, we initialize the model parameters."
      ]
    },
    {
      "cell_type": "code",
      "metadata": {
        "id": "zkNxvfV80zOR",
        "colab": {
          "base_uri": "https://localhost:8080/"
        },
        "outputId": "572820c9-76fe-448f-cf35-8daa09ce7361"
      },
      "source": [
        "def init_weights(m):\n",
        "    for name, param in m.named_parameters():\n",
        "        if 'weight' in name:\n",
        "            nn.init.normal_(param.data, mean=0, std=0.01)\n",
        "        else:\n",
        "            nn.init.constant_(param.data, 0)\n",
        "            \n",
        "model.apply(init_weights)"
      ],
      "execution_count": 18,
      "outputs": [
        {
          "output_type": "execute_result",
          "data": {
            "text/plain": [
              "Seq2Seq(\n",
              "  (encoder): Encoder(\n",
              "    (embedding): Embedding(7853, 256)\n",
              "    (rnn): GRU(256, 512, bidirectional=True)\n",
              "    (fc): Linear(in_features=1024, out_features=512, bias=True)\n",
              "    (dropout): Dropout(p=0.5, inplace=False)\n",
              "  )\n",
              "  (decoder): Decoder(\n",
              "    (attention): Attention(\n",
              "      (attn): Linear(in_features=1536, out_features=512, bias=True)\n",
              "      (v): Linear(in_features=512, out_features=1, bias=False)\n",
              "    )\n",
              "    (embedding): Embedding(5893, 256)\n",
              "    (rnn): GRU(1280, 512)\n",
              "    (fc_out): Linear(in_features=1792, out_features=5893, bias=True)\n",
              "    (dropout): Dropout(p=0.5, inplace=False)\n",
              "  )\n",
              ")"
            ]
          },
          "metadata": {
            "tags": []
          },
          "execution_count": 18
        }
      ]
    },
    {
      "cell_type": "markdown",
      "metadata": {
        "id": "f333XkZx0zOS"
      },
      "source": [
        "We'll print out the number of trainable parameters in the model, noticing that it has the exact same amount of parameters as the model without these improvements."
      ]
    },
    {
      "cell_type": "code",
      "metadata": {
        "id": "S6e19x3F0zOS",
        "colab": {
          "base_uri": "https://localhost:8080/"
        },
        "outputId": "cbfe4dff-1183-4117-9eb3-6a6175a59102"
      },
      "source": [
        "def count_parameters(model):\n",
        "    return sum(p.numel() for p in model.parameters() if p.requires_grad)\n",
        "\n",
        "print(f'The model has {count_parameters(model):,} trainable parameters')"
      ],
      "execution_count": 19,
      "outputs": [
        {
          "output_type": "stream",
          "text": [
            "The model has 20,518,405 trainable parameters\n"
          ],
          "name": "stdout"
        }
      ]
    },
    {
      "cell_type": "markdown",
      "metadata": {
        "id": "Sf-rozMP0zOT"
      },
      "source": [
        "Then we define our optimizer and criterion. \n",
        "\n",
        "The `ignore_index` for the criterion needs to be the index of the pad token for the target language, not the source language."
      ]
    },
    {
      "cell_type": "code",
      "metadata": {
        "id": "79INrQVM0zOT"
      },
      "source": [
        "optimizer = optim.Adam(model.parameters())"
      ],
      "execution_count": 20,
      "outputs": []
    },
    {
      "cell_type": "code",
      "metadata": {
        "id": "CGVcvfQ20zOT"
      },
      "source": [
        "TRG_PAD_IDX = TRG.vocab.stoi[TRG.pad_token]\n",
        "\n",
        "criterion = nn.CrossEntropyLoss(ignore_index = TRG_PAD_IDX)"
      ],
      "execution_count": 21,
      "outputs": []
    },
    {
      "cell_type": "markdown",
      "metadata": {
        "id": "hzDbKvmP0zOT"
      },
      "source": [
        "Next, we'll define our training and evaluation loops.\n",
        "\n",
        "As we are using `include_lengths = True` for our source field, `batch.src` is now a tuple with the first element being the numericalized tensor representing the sentence and the second element being the lengths of each sentence within the batch.\n",
        "\n",
        "Our model also returns the attention vectors over the batch of source source sentences for each decoding time-step. We won't use these during the training/evaluation, but we will later for inference."
      ]
    },
    {
      "cell_type": "code",
      "metadata": {
        "id": "_EncmuSm0zOU"
      },
      "source": [
        "def train(model, iterator, optimizer, criterion, clip):\n",
        "    \n",
        "    model.train()\n",
        "    \n",
        "    epoch_loss = 0\n",
        "    \n",
        "    for i, batch in enumerate(iterator):\n",
        "        \n",
        "        src, src_len = batch.src\n",
        "        trg = batch.trg\n",
        "        \n",
        "        optimizer.zero_grad()\n",
        "        \n",
        "        output = model(src, src_len, trg)\n",
        "        \n",
        "        #trg = [trg len, batch size]\n",
        "        #output = [trg len, batch size, output dim]\n",
        "        \n",
        "        output_dim = output.shape[-1]\n",
        "        \n",
        "        output = output[1:].view(-1, output_dim)\n",
        "        trg = trg[1:].view(-1)\n",
        "        \n",
        "        #trg = [(trg len - 1) * batch size]\n",
        "        #output = [(trg len - 1) * batch size, output dim]\n",
        "        \n",
        "        loss = criterion(output, trg)\n",
        "        \n",
        "        loss.backward()\n",
        "        \n",
        "        torch.nn.utils.clip_grad_norm_(model.parameters(), clip)\n",
        "        \n",
        "        optimizer.step()\n",
        "        \n",
        "        epoch_loss += loss.item()\n",
        "        \n",
        "    return epoch_loss / len(iterator)"
      ],
      "execution_count": 22,
      "outputs": []
    },
    {
      "cell_type": "code",
      "metadata": {
        "id": "t24MSfvG0zOU"
      },
      "source": [
        "def evaluate(model, iterator, criterion):\n",
        "    \n",
        "    model.eval()\n",
        "    \n",
        "    epoch_loss = 0\n",
        "    \n",
        "    with torch.no_grad():\n",
        "    \n",
        "        for i, batch in enumerate(iterator):\n",
        "\n",
        "            src, src_len = batch.src\n",
        "            trg = batch.trg\n",
        "\n",
        "            output = model(src, src_len, trg, 0) #turn off teacher forcing\n",
        "            \n",
        "            #trg = [trg len, batch size]\n",
        "            #output = [trg len, batch size, output dim]\n",
        "\n",
        "            output_dim = output.shape[-1]\n",
        "            \n",
        "            output = output[1:].view(-1, output_dim)\n",
        "            trg = trg[1:].view(-1)\n",
        "\n",
        "            #trg = [(trg len - 1) * batch size]\n",
        "            #output = [(trg len - 1) * batch size, output dim]\n",
        "\n",
        "            loss = criterion(output, trg)\n",
        "\n",
        "            epoch_loss += loss.item()\n",
        "        \n",
        "    return epoch_loss / len(iterator)"
      ],
      "execution_count": 23,
      "outputs": []
    },
    {
      "cell_type": "markdown",
      "metadata": {
        "id": "acWHkSEh0zOU"
      },
      "source": [
        "Then, we'll define a useful function for timing how long epochs take."
      ]
    },
    {
      "cell_type": "code",
      "metadata": {
        "id": "xPlot98w0zOV"
      },
      "source": [
        "def epoch_time(start_time, end_time):\n",
        "    elapsed_time = end_time - start_time\n",
        "    elapsed_mins = int(elapsed_time / 60)\n",
        "    elapsed_secs = int(elapsed_time - (elapsed_mins * 60))\n",
        "    return elapsed_mins, elapsed_secs"
      ],
      "execution_count": 24,
      "outputs": []
    },
    {
      "cell_type": "markdown",
      "metadata": {
        "id": "IViJmTkp0zOV"
      },
      "source": [
        "The penultimate step is to train our model. Notice how it takes almost half the time as our model without the improvements added in this notebook."
      ]
    },
    {
      "cell_type": "code",
      "metadata": {
        "id": "Corg3aO00zOV",
        "colab": {
          "base_uri": "https://localhost:8080/"
        },
        "outputId": "3f4c9e2f-13b6-4860-e597-dfc5a078d16d"
      },
      "source": [
        "N_EPOCHS = 20\n",
        "CLIP = 1\n",
        "tr_loss, val_loss = [], []\n",
        "tr_ppl, val_ppl = [], []\n",
        "best_valid_loss = float('inf')\n",
        "\n",
        "for epoch in range(N_EPOCHS):\n",
        "    \n",
        "    start_time = time.time()\n",
        "    \n",
        "    train_loss = train(model, train_iterator, optimizer, criterion, CLIP)\n",
        "    valid_loss = evaluate(model, valid_iterator, criterion)\n",
        "    \n",
        "    end_time = time.time()\n",
        "    \n",
        "    epoch_mins, epoch_secs = epoch_time(start_time, end_time)\n",
        "    \n",
        "    if valid_loss < best_valid_loss:\n",
        "        best_valid_loss = valid_loss\n",
        "        torch.save(model.state_dict(), 'tut4-model.pt')\n",
        "    \n",
        "    tr_loss.append(train_loss)\n",
        "    val_loss.append(valid_loss)\n",
        "    tr_ppl.append(math.exp(train_loss))\n",
        "    val_ppl.append(math.exp(valid_loss))\n",
        "    print(f'Epoch: {epoch+1:02} | Time: {epoch_mins}m {epoch_secs}s')\n",
        "    print(f'\\tTrain Loss: {train_loss:.3f} | Train PPL: {math.exp(train_loss):7.3f}')\n",
        "    print(f'\\t Val. Loss: {valid_loss:.3f} |  Val. PPL: {math.exp(valid_loss):7.3f}')"
      ],
      "execution_count": null,
      "outputs": [
        {
          "output_type": "stream",
          "text": [
            "Epoch: 01 | Time: 0m 44s\n",
            "\tTrain Loss: 5.042 | Train PPL: 154.803\n",
            "\t Val. Loss: 4.786 |  Val. PPL: 119.857\n",
            "Epoch: 02 | Time: 0m 45s\n",
            "\tTrain Loss: 4.105 | Train PPL:  60.633\n",
            "\t Val. Loss: 4.193 |  Val. PPL:  66.236\n",
            "Epoch: 03 | Time: 0m 45s\n",
            "\tTrain Loss: 3.361 | Train PPL:  28.823\n",
            "\t Val. Loss: 3.622 |  Val. PPL:  37.423\n",
            "Epoch: 04 | Time: 0m 46s\n",
            "\tTrain Loss: 2.873 | Train PPL:  17.688\n",
            "\t Val. Loss: 3.366 |  Val. PPL:  28.975\n",
            "Epoch: 05 | Time: 0m 46s\n",
            "\tTrain Loss: 2.485 | Train PPL:  12.006\n",
            "\t Val. Loss: 3.246 |  Val. PPL:  25.690\n",
            "Epoch: 06 | Time: 0m 47s\n",
            "\tTrain Loss: 2.189 | Train PPL:   8.924\n",
            "\t Val. Loss: 3.252 |  Val. PPL:  25.854\n",
            "Epoch: 07 | Time: 0m 46s\n",
            "\tTrain Loss: 1.957 | Train PPL:   7.076\n",
            "\t Val. Loss: 3.125 |  Val. PPL:  22.768\n",
            "Epoch: 08 | Time: 0m 47s\n",
            "\tTrain Loss: 1.755 | Train PPL:   5.784\n",
            "\t Val. Loss: 3.268 |  Val. PPL:  26.257\n",
            "Epoch: 09 | Time: 0m 47s\n",
            "\tTrain Loss: 1.598 | Train PPL:   4.941\n",
            "\t Val. Loss: 3.246 |  Val. PPL:  25.700\n",
            "Epoch: 10 | Time: 0m 47s\n",
            "\tTrain Loss: 1.486 | Train PPL:   4.417\n",
            "\t Val. Loss: 3.280 |  Val. PPL:  26.571\n",
            "Epoch: 11 | Time: 0m 47s\n",
            "\tTrain Loss: 1.340 | Train PPL:   3.818\n",
            "\t Val. Loss: 3.480 |  Val. PPL:  32.452\n",
            "Epoch: 12 | Time: 0m 47s\n",
            "\tTrain Loss: 1.264 | Train PPL:   3.539\n",
            "\t Val. Loss: 3.387 |  Val. PPL:  29.586\n",
            "Epoch: 13 | Time: 0m 47s\n",
            "\tTrain Loss: 1.161 | Train PPL:   3.193\n",
            "\t Val. Loss: 3.449 |  Val. PPL:  31.471\n",
            "Epoch: 14 | Time: 0m 47s\n",
            "\tTrain Loss: 1.082 | Train PPL:   2.952\n",
            "\t Val. Loss: 3.550 |  Val. PPL:  34.809\n",
            "Epoch: 15 | Time: 0m 47s\n",
            "\tTrain Loss: 1.007 | Train PPL:   2.737\n",
            "\t Val. Loss: 3.627 |  Val. PPL:  37.606\n",
            "Epoch: 16 | Time: 0m 47s\n",
            "\tTrain Loss: 0.935 | Train PPL:   2.548\n",
            "\t Val. Loss: 3.708 |  Val. PPL:  40.777\n",
            "Epoch: 17 | Time: 0m 47s\n",
            "\tTrain Loss: 0.871 | Train PPL:   2.388\n",
            "\t Val. Loss: 3.698 |  Val. PPL:  40.373\n",
            "Epoch: 18 | Time: 0m 47s\n",
            "\tTrain Loss: 0.812 | Train PPL:   2.253\n",
            "\t Val. Loss: 3.817 |  Val. PPL:  45.445\n",
            "Epoch: 19 | Time: 0m 47s\n",
            "\tTrain Loss: 0.769 | Train PPL:   2.157\n",
            "\t Val. Loss: 3.870 |  Val. PPL:  47.932\n",
            "Epoch: 20 | Time: 0m 47s\n",
            "\tTrain Loss: 0.727 | Train PPL:   2.068\n",
            "\t Val. Loss: 3.967 |  Val. PPL:  52.815\n"
          ],
          "name": "stdout"
        }
      ]
    },
    {
      "cell_type": "markdown",
      "metadata": {
        "id": "E4GbEtge0zOW"
      },
      "source": [
        "Finally, we load the parameters from our best validation loss and get our results on the test set.\n",
        "\n",
        "We get the improved test perplexity whilst almost being twice as fast!"
      ]
    },
    {
      "cell_type": "code",
      "metadata": {
        "id": "2qzTfObx0zOW",
        "colab": {
          "base_uri": "https://localhost:8080/"
        },
        "outputId": "5d328a63-c571-40f8-9f12-67d5f7b230d6"
      },
      "source": [
        "model.load_state_dict(torch.load('tut4-model.pt', map_location=torch.device('cpu')))\n",
        "\n",
        "test_loss = evaluate(model, test_iterator, criterion)\n",
        "\n",
        "print(f'| Test Loss: {test_loss:.3f} | Test PPL: {math.exp(test_loss):7.3f} |')"
      ],
      "execution_count": 26,
      "outputs": [
        {
          "output_type": "stream",
          "text": [
            "| Test Loss: 3.149 | Test PPL:  23.301 |\n"
          ],
          "name": "stdout"
        }
      ]
    },
    {
      "cell_type": "code",
      "metadata": {
        "id": "67eSZVGDET3N"
      },
      "source": [
        "%matplotlib inline\n",
        "import numpy as np\n",
        "import matplotlib.pyplot as plt"
      ],
      "execution_count": null,
      "outputs": []
    },
    {
      "cell_type": "code",
      "metadata": {
        "colab": {
          "base_uri": "https://localhost:8080/",
          "height": 424
        },
        "id": "9YZgB3RwEVpD",
        "outputId": "3e4b7d08-1b22-4bce-b071-d1e295d69541"
      },
      "source": [
        "train_val = [[tr_loss[i], val_loss[i]] for i in range(N_EPOCHS)]\n",
        "plt.figure(figsize=(6,6))\n",
        "plt.plot(np.linspace(1,N_EPOCHS,N_EPOCHS).astype(int), train_val)\n",
        "plt.title('Training and Validation Loss per Epoch', fontsize = 12)\n",
        "plt.xticks(list(range(2,N_EPOCHS+1, 2)))\n",
        "plt.xlabel('Epochs', fontsize = 12)\n",
        "plt.ylabel('Loss', fontsize = 12)\n",
        "plt.legend(['Training Loss', 'Validation Loss'])"
      ],
      "execution_count": null,
      "outputs": [
        {
          "output_type": "execute_result",
          "data": {
            "text/plain": [
              "<matplotlib.legend.Legend at 0x7f2843e5f450>"
            ]
          },
          "metadata": {
            "tags": []
          },
          "execution_count": 26
        },
        {
          "output_type": "display_data",
          "data": {
            "image/png": "[encoded data removed]",
            "text/plain": [
              "<Figure size 432x432 with 1 Axes>"
            ]
          },
          "metadata": {
            "tags": [],
            "needs_background": "light"
          }
        }
      ]
    },
    {
      "cell_type": "code",
      "metadata": {
        "colab": {
          "base_uri": "https://localhost:8080/",
          "height": 424
        },
        "id": "qGMqD5GOEtxM",
        "outputId": "db4bfe5a-6666-4fe2-b2c8-73aa24f259f8"
      },
      "source": [
        "train_val_ppl = [[tr_ppl[i], val_ppl[i]] for i in range(N_EPOCHS)]\n",
        "plt.figure(figsize=(6,6))\n",
        "plt.plot(np.linspace(1,N_EPOCHS,N_EPOCHS).astype(int), train_val_ppl)\n",
        "plt.title('Training and Validation Perplexity per Epoch', fontsize = 12)\n",
        "plt.xticks(list(range(2, N_EPOCHS+1, 2)))\n",
        "plt.xlabel('Epochs', fontsize = 12)\n",
        "plt.ylabel('Loss', fontsize = 12)\n",
        "plt.legend(['Training Perplexity', 'Validation Perplexity'])"
      ],
      "execution_count": null,
      "outputs": [
        {
          "output_type": "execute_result",
          "data": {
            "text/plain": [
              "<matplotlib.legend.Legend at 0x7f283dbbd1d0>"
            ]
          },
          "metadata": {
            "tags": []
          },
          "execution_count": 27
        },
        {
          "output_type": "display_data",
          "data": {
            "image/png": "[encoded data removed]",
            "text/plain": [
              "<Figure size 432x432 with 1 Axes>"
            ]
          },
          "metadata": {
            "tags": [],
            "needs_background": "light"
          }
        }
      ]
    },
    {
      "cell_type": "markdown",
      "metadata": {
        "id": "2Enb7-Vq0zOW"
      },
      "source": [
        "## Inference\n",
        "\n",
        "Now we can use our trained model to generate translations.\n",
        "\n",
        "**Note:** these translations will be poor compared to examples shown in paper as they use hidden dimension sizes of 1000 and train for 4 days! They have been cherry picked in order to show off what attention should look like on a sufficiently sized model.\n",
        "\n",
        "Our `translate_sentence` will do the following:\n",
        "- ensure our model is in evaluation mode, which it should always be for inference\n",
        "- tokenize the source sentence if it has not been tokenized (is a string)\n",
        "- numericalize the source sentence\n",
        "- convert it to a tensor and add a batch dimension\n",
        "- get the length of the source sentence and convert to a tensor\n",
        "- feed the source sentence into the encoder\n",
        "- create the mask for the source sentence\n",
        "- create a list to hold the output sentence, initialized with an `<sos>` token\n",
        "- create a tensor to hold the attention values\n",
        "- while we have not hit a maximum length\n",
        "  - get the input tensor, which should be either `<sos>` or the last predicted token\n",
        "  - feed the input, all encoder outputs, hidden state and mask into the decoder\n",
        "  - store attention values\n",
        "  - get the predicted next token\n",
        "  - add prediction to current output sentence prediction\n",
        "  - break if the prediction was an `<eos>` token\n",
        "- convert the output sentence from indexes to tokens\n",
        "- return the output sentence (with the `<sos>` token removed) and the attention values over the sequence"
      ]
    },
    {
      "cell_type": "code",
      "metadata": {
        "id": "LTakouXy0zOX"
      },
      "source": [
        "def translate_sentence(sentence, src_field, trg_field, model, device, max_len = 50):\n",
        "\n",
        "    model.eval()\n",
        "        \n",
        "    if isinstance(sentence, str):\n",
        "        nlp = spacy.load('de')\n",
        "        tokens = [token.text.lower() for token in nlp(sentence)]\n",
        "    else:\n",
        "        tokens = [token.lower() for token in sentence]\n",
        "\n",
        "    tokens = [src_field.init_token] + tokens + [src_field.eos_token]\n",
        "        \n",
        "    src_indexes = [src_field.vocab.stoi[token] for token in tokens]\n",
        "    \n",
        "    src_tensor = torch.LongTensor(src_indexes).unsqueeze(1).to(device)\n",
        "\n",
        "    src_len = torch.LongTensor([len(src_indexes)])\n",
        "    \n",
        "    with torch.no_grad():\n",
        "        encoder_outputs, hidden = model.encoder(src_tensor, src_len)\n",
        "\n",
        "    mask = model.create_mask(src_tensor)\n",
        "        \n",
        "    trg_indexes = [trg_field.vocab.stoi[trg_field.init_token]]\n",
        "\n",
        "    attentions = torch.zeros(max_len, 1, len(src_indexes)).to(device)\n",
        "    \n",
        "    for i in range(max_len):\n",
        "\n",
        "        trg_tensor = torch.LongTensor([trg_indexes[-1]]).to(device)\n",
        "                \n",
        "        with torch.no_grad():\n",
        "            output, hidden, attention = model.decoder(trg_tensor, hidden, encoder_outputs, mask)\n",
        "\n",
        "        attentions[i] = attention\n",
        "            \n",
        "        pred_token = output.argmax(1).item()\n",
        "        \n",
        "        trg_indexes.append(pred_token)\n",
        "\n",
        "        if pred_token == trg_field.vocab.stoi[trg_field.eos_token]:\n",
        "            break\n",
        "    \n",
        "    trg_tokens = [trg_field.vocab.itos[i] for i in trg_indexes]\n",
        "    \n",
        "    return trg_tokens[1:], attentions[:len(trg_tokens)-1]"
      ],
      "execution_count": 27,
      "outputs": []
    },
    {
      "cell_type": "markdown",
      "metadata": {
        "id": "-RtnYe34RUCA"
      },
      "source": [
        "## Beam Search Implementation"
      ]
    },
    {
      "cell_type": "code",
      "metadata": {
        "id": "q_kvVpXsayjv"
      },
      "source": [
        "def translate_sentence_beamsearch(sentence, src_field, trg_field, model, device, max_len = 50, beam_width = 2, alpha = 1):\n",
        "\n",
        "    model.eval()\n",
        "        \n",
        "    if isinstance(sentence, str):\n",
        "        nlp = spacy.load('de')\n",
        "        tokens = [token.text.lower() for token in nlp(sentence)]\n",
        "    else:\n",
        "        tokens = [token.lower() for token in sentence]\n",
        "\n",
        "    tokens = [src_field.init_token] + tokens + [src_field.eos_token]\n",
        "        \n",
        "    src_indexes = [src_field.vocab.stoi[token] for token in tokens]\n",
        "    \n",
        "    src_tensor = torch.LongTensor(src_indexes).unsqueeze(1).to(device)\n",
        "\n",
        "    src_len = torch.LongTensor([len(src_indexes)])\n",
        "    \n",
        "    with torch.no_grad():\n",
        "        encoder_outputs, hidden = model.encoder(src_tensor, src_len)\n",
        "\n",
        "    mask = model.create_mask(src_tensor)\n",
        "        \n",
        "    trg_indexes = [trg_field.vocab.stoi[trg_field.init_token]]\n",
        "\n",
        "    attentions = torch.zeros(max_len, 1, len(src_indexes)).to(device)\n",
        "    \n",
        "    topk = [[trg_indexes,0,0]] # sequence, score, hidden_state_index\n",
        "    current_state, previous_state = {}, {}\n",
        "    previous_state[0] = hidden\n",
        "    topk_eos = []\n",
        "    \n",
        "    # looping over each time-step \n",
        "    for i in range(max_len):\n",
        "      #print(\"Iteration: \",i)\n",
        "      occurences = []\n",
        "      if topk == []:\n",
        "        break\n",
        "      if topk_eos:\n",
        "        for k, (seq, s, h) in enumerate(topk_eos):\n",
        "          occurences.append([seq,s,h])\n",
        "      # looping over each candidate in topk\n",
        "      for j, (sequence, score, hidden_state) in enumerate(topk):\n",
        "        trg_tensor = torch.LongTensor([sequence[-1]]).to(device)\n",
        "      \n",
        "        with torch.no_grad():\n",
        "          output, hidden, attention = model.decoder(trg_tensor, previous_state[hidden_state], encoder_outputs, mask)\n",
        "        \n",
        "        current_state[j] = hidden\n",
        "        # finding the log probability for each ouput\n",
        "        log_output = torch.nn.functional.log_softmax(output.squeeze(), dim = 0)\n",
        "\n",
        "        # length of the current sequence\n",
        "        seq_len = len(sequence) - 1\n",
        "        \n",
        "        # looping over the values to store them in the list of occurences \n",
        "        for (index, value) in enumerate(log_output):\n",
        "          # diving the score by alpha to penallize long sequences\n",
        "          occurence = [sequence + [index], (score*(seq_len**alpha) + value.item()) / (seq_len+1)**alpha , j]\n",
        "          occurences.append(occurence)\n",
        "\n",
        "      previous_state, current_state = current_state, {}\n",
        "      # finding the topk candidates for this time-step \n",
        "      topk = sorted(occurences, key = lambda x:x[1], reverse = True)[:beam_width-len(topk_eos)]\n",
        "\n",
        "      # logic to check for <eos> token and removing that from the topk candidates list\n",
        "      indexes = []\n",
        "      for k, (tseq, tscore, thidden_ind) in enumerate(topk):\n",
        "        if tseq[-1] == trg_field.vocab.stoi[trg_field.eos_token]:\n",
        "          topk_eos.append(topk[k])\n",
        "          indexes.append(k)\n",
        "      for val in sorted(indexes, reverse = True):\n",
        "        topk.pop(val)\n",
        "    \n",
        "    # creating the final list of topk candidates   \n",
        "    topk_candidates = topk + topk_eos\n",
        "    topk_candidates = sorted(topk_candidates, key = lambda x: x[1], reverse = True)[:beam_width]\n",
        "    return topk_candidates"
      ],
      "execution_count": 29,
      "outputs": []
    },
    {
      "cell_type": "markdown",
      "metadata": {
        "id": "WZNHNFPRRKLA"
      },
      "source": [
        "## Nucleus Sampling Implementation\n"
      ]
    },
    {
      "cell_type": "code",
      "metadata": {
        "id": "0kG4h4Y1zsV0"
      },
      "source": [
        "def translate_sentence_nucleus(sentence, src_field, trg_field, model, device, max_len = 50, top_p = 0.9, temperature = 1):\n",
        "\n",
        "    model.eval()\n",
        "        \n",
        "    if isinstance(sentence, str):\n",
        "        nlp = spacy.load('de')\n",
        "        tokens = [token.text.lower() for token in nlp(sentence)]\n",
        "    else:\n",
        "        tokens = [token.lower() for token in sentence]\n",
        "\n",
        "    tokens = [src_field.init_token] + tokens + [src_field.eos_token]\n",
        "        \n",
        "    src_indexes = [src_field.vocab.stoi[token] for token in tokens]\n",
        "    \n",
        "    src_tensor = torch.LongTensor(src_indexes).unsqueeze(1).to(device)\n",
        "\n",
        "    src_len = torch.LongTensor([len(src_indexes)])\n",
        "    \n",
        "    with torch.no_grad():\n",
        "        encoder_outputs, hidden = model.encoder(src_tensor, src_len)\n",
        "\n",
        "    mask = model.create_mask(src_tensor)\n",
        "        \n",
        "    trg_indexes = [trg_field.vocab.stoi[trg_field.init_token]]\n",
        "\n",
        "    attentions = torch.zeros(max_len, 1, len(src_indexes)).to(device)\n",
        "    \n",
        "    for i in range(max_len):\n",
        "\n",
        "        trg_tensor = torch.LongTensor([trg_indexes[-1]]).to(device)\n",
        "                \n",
        "        with torch.no_grad():\n",
        "            output, hidden, attention = model.decoder(trg_tensor, hidden, encoder_outputs, mask)\n",
        "\n",
        "        #attentions[i] = attention\n",
        "        output = output.squeeze()\n",
        "        # calculating the sorted outputs and indices to find the cumulative probabilities\n",
        "        sorted_outputs, sorted_indices = torch.sort(output, descending=True)\n",
        "        cumulative_probs = torch.cumsum(F.softmax(sorted_outputs,dim = -1), dim = -1)\n",
        "        # creating an array of boolean value to get indices that need to be removed accouring to p value\n",
        "        indices_to_remove = cumulative_probs > top_p\n",
        "        indices_to_remove[..., 1:] = indices_to_remove[..., :-1].clone()\n",
        "        indices_to_remove[..., 0] = 0\n",
        "        # removing these indices and storing in a list\n",
        "        indices = sorted_indices[indices_to_remove]\n",
        "        # converting their values to -inf for rescaling of values\n",
        "        output[indices] = -float('Inf') \n",
        "        \n",
        "        # diving the output values with temperature to adjust the sampling from the distribution\n",
        "        output = output/temperature\n",
        "        # calculating the softmax and then finding a new distribution over these top-p outputs\n",
        "        probabilities = F.softmax(output, dim = -1)\n",
        "        # sampling from the values\n",
        "        pred_token = torch.multinomial(probabilities, 1)\n",
        "        trg_indexes.append(pred_token)\n",
        "\n",
        "        if pred_token == trg_field.vocab.stoi[trg_field.eos_token]:\n",
        "            break\n",
        "    \n",
        "    trg_tokens = [trg_field.vocab.itos[i] for i in trg_indexes]\n",
        "    #return the target sequence\n",
        "    return trg_tokens[1:]\n",
        "    "
      ],
      "execution_count": 30,
      "outputs": []
    },
    {
      "cell_type": "markdown",
      "metadata": {
        "id": "5TGl9Lli0zOX"
      },
      "source": [
        "Next, we'll make a function that displays the model's attention over the source sentence for each target token generated."
      ]
    },
    {
      "cell_type": "code",
      "metadata": {
        "id": "E9wsj9bw0zOX"
      },
      "source": [
        "def display_attention(sentence, translation, attention):\n",
        "    \n",
        "    fig = plt.figure(figsize=(10,10))\n",
        "    ax = fig.add_subplot(111)\n",
        "    \n",
        "    attention = attention.squeeze(1).cpu().detach().numpy()\n",
        "    \n",
        "    cax = ax.matshow(attention, cmap='bone')\n",
        "   \n",
        "    ax.tick_params(labelsize=15)\n",
        "    \n",
        "    x_ticks = [''] + ['<sos>'] + [t.lower() for t in sentence] + ['<eos>']\n",
        "    y_ticks = [''] + translation\n",
        "     \n",
        "    ax.set_xticklabels(x_ticks, rotation=45)\n",
        "    ax.set_yticklabels(y_ticks)\n",
        "\n",
        "    ax.xaxis.set_major_locator(ticker.MultipleLocator(1))\n",
        "    ax.yaxis.set_major_locator(ticker.MultipleLocator(1))\n",
        "\n",
        "    plt.show()\n",
        "    plt.close()"
      ],
      "execution_count": 31,
      "outputs": []
    },
    {
      "cell_type": "markdown",
      "metadata": {
        "id": "lMJmIi80XJMd"
      },
      "source": [
        "## Samples for Greedy Method "
      ]
    },
    {
      "cell_type": "code",
      "metadata": {
        "colab": {
          "base_uri": "https://localhost:8080/"
        },
        "id": "MHtocwPW1RRY",
        "outputId": "8795539f-e8cc-4bb2-a769-7fd406da01a9"
      },
      "source": [
        "example_idx = 12\n",
        "\n",
        "src = vars(train_data.examples[example_idx])['src']\n",
        "trg = vars(train_data.examples[example_idx])['trg']\n",
        "\n",
        "print(f'src = {src}')\n",
        "print(f'trg = {trg}')"
      ],
      "execution_count": 49,
      "outputs": [
        {
          "output_type": "stream",
          "text": [
            "src = ['ein', 'schwarzer', 'hund', 'und', 'ein', 'gefleckter', 'hund', 'kämpfen', '.']\n",
            "trg = ['a', 'black', 'dog', 'and', 'a', 'spotted', 'dog', 'are', 'fighting']\n"
          ],
          "name": "stdout"
        }
      ]
    },
    {
      "cell_type": "code",
      "metadata": {
        "colab": {
          "base_uri": "https://localhost:8080/"
        },
        "id": "6tp3mWx8VK-K",
        "outputId": "2ba63885-f24c-411b-c2ba-d58792a4beed"
      },
      "source": [
        "translation, attention = translate_sentence(src,SRC,TRG,model,device)\n",
        "print(f'predicted trg = {translation}')"
      ],
      "execution_count": 50,
      "outputs": [
        {
          "output_type": "stream",
          "text": [
            "predicted trg = ['a', 'black', 'dog', 'and', 'a', 'spotted', 'dog', 'fighting', '.', '<eos>']\n"
          ],
          "name": "stdout"
        }
      ]
    },
    {
      "cell_type": "code",
      "metadata": {
        "colab": {
          "base_uri": "https://localhost:8080/",
          "height": 614
        },
        "id": "0uf1w54NVRAb",
        "outputId": "dddb39b0-c70d-43ee-dcf2-6afa2e9acefb"
      },
      "source": [
        "display_attention(src, translation, attention)"
      ],
      "execution_count": 51,
      "outputs": [
        {
          "output_type": "display_data",
          "data": {
            "image/png": "[encoded data removed]",
            "text/plain": [
              "<Figure size 720x720 with 1 Axes>"
            ]
          },
          "metadata": {
            "tags": [],
            "needs_background": "light"
          }
        }
      ]
    },
    {
      "cell_type": "code",
      "metadata": {
        "id": "XG0rzCs30zOZ",
        "colab": {
          "base_uri": "https://localhost:8080/"
        },
        "outputId": "1c553fbb-743b-423c-a416-f2f904702f91"
      },
      "source": [
        "example_idx = 214\n",
        "\n",
        "src = vars(valid_data.examples[example_idx])['src']\n",
        "trg = vars(valid_data.examples[example_idx])['trg']\n",
        "\n",
        "print(f'src = {src}')\n",
        "print(f'trg = {trg}')"
      ],
      "execution_count": 52,
      "outputs": [
        {
          "output_type": "stream",
          "text": [
            "src = ['mann', 'arbeitet', 'an', 'den', 'schienen', 'in', 'einem', 'bahnhof', '.']\n",
            "trg = ['man', 'working', 'on', 'the', 'railroad', 'in', 'a', 'railroad', 'station', '.']\n"
          ],
          "name": "stdout"
        }
      ]
    },
    {
      "cell_type": "code",
      "metadata": {
        "id": "_kZ0F4lX0zOa",
        "colab": {
          "base_uri": "https://localhost:8080/",
          "height": 523
        },
        "outputId": "7a204781-849d-4047-84af-873d4fb4ce5b"
      },
      "source": [
        "translation, attention = translate_sentence(src, SRC, TRG, model, device)\n",
        "\n",
        "print(f'predicted trg = {translation}')\n",
        "\n",
        "display_attention(src, translation, attention)"
      ],
      "execution_count": 53,
      "outputs": [
        {
          "output_type": "stream",
          "text": [
            "predicted trg = ['man', 'working', 'at', 'the', 'train', 'station', '.', '<eos>']\n"
          ],
          "name": "stdout"
        },
        {
          "output_type": "display_data",
          "data": {
            "image/png": "[encoded data removed]",
            "text/plain": [
              "<Figure size 720x720 with 1 Axes>"
            ]
          },
          "metadata": {
            "tags": [],
            "needs_background": "light"
          }
        }
      ]
    },
    {
      "cell_type": "code",
      "metadata": {
        "id": "6WgV5Why0zOb",
        "colab": {
          "base_uri": "https://localhost:8080/"
        },
        "outputId": "3808557a-cbe9-474c-e830-bc95f6d6151b"
      },
      "source": [
        "example_idx = 554\n",
        "\n",
        "src = vars(test_data.examples[example_idx])['src']\n",
        "trg = vars(test_data.examples[example_idx])['trg']\n",
        "\n",
        "print(f'src = {src}')\n",
        "print(f'trg = {trg}')"
      ],
      "execution_count": 54,
      "outputs": [
        {
          "output_type": "stream",
          "text": [
            "src = ['eine', 'junge', 'dame', 'macht', 'yoga', 'am', 'strand', '.']\n",
            "trg = ['a', 'young', 'lady', 'doing', 'yoga', 'on', 'the', 'beach', '.']\n"
          ],
          "name": "stdout"
        }
      ]
    },
    {
      "cell_type": "code",
      "metadata": {
        "id": "mZk9_7my0zOc",
        "colab": {
          "base_uri": "https://localhost:8080/",
          "height": 649
        },
        "outputId": "c8d1656f-248a-4911-b31f-1255b16dea05"
      },
      "source": [
        "translation, attention = translate_sentence(src, SRC, TRG, model, device)\n",
        "\n",
        "print(f'predicted trg = {translation}')\n",
        "\n",
        "display_attention(src, translation, attention)"
      ],
      "execution_count": 55,
      "outputs": [
        {
          "output_type": "stream",
          "text": [
            "predicted trg = ['a', 'young', 'lady', 'does', 'a', 'handstand', 'on', 'the', 'beach', '.', '<eos>']\n"
          ],
          "name": "stdout"
        },
        {
          "output_type": "display_data",
          "data": {
            "image/png": "[encoded data removed]",
            "text/plain": [
              "<Figure size 720x720 with 1 Axes>"
            ]
          },
          "metadata": {
            "tags": [],
            "needs_background": "light"
          }
        }
      ]
    },
    {
      "cell_type": "code",
      "metadata": {
        "id": "cX7eElPq0zOY",
        "colab": {
          "base_uri": "https://localhost:8080/"
        },
        "outputId": "4feaeb2d-f07d-43ea-c0cf-c5e78aa83159"
      },
      "source": [
        "example_idx = 890\n",
        "\n",
        "src = vars(train_data.examples[example_idx])['src']\n",
        "trg = vars(train_data.examples[example_idx])['trg']\n",
        "\n",
        "print(f'src = {src}')\n",
        "print(f'trg = {trg}')"
      ],
      "execution_count": 56,
      "outputs": [
        {
          "output_type": "stream",
          "text": [
            "src = ['zwei', 'welpen', 'rennen', 'über', 'flache', 'steine', 'in', 'einem', 'gartenbereich', '.']\n",
            "trg = ['two', 'puppies', 'run', 'across', 'flat', 'stones', 'in', 'garden', 'area', '.']\n"
          ],
          "name": "stdout"
        }
      ]
    },
    {
      "cell_type": "code",
      "metadata": {
        "id": "TKVeFs_q_lsC",
        "colab": {
          "base_uri": "https://localhost:8080/"
        },
        "outputId": "f2cee81a-7c08-4607-ad62-35ddb5c4f738"
      },
      "source": [
        "translation, attention = translate_sentence(src,SRC,TRG,model,device)\n",
        "print(f'predicted trg = {translation}')"
      ],
      "execution_count": 57,
      "outputs": [
        {
          "output_type": "stream",
          "text": [
            "predicted trg = ['two', 'puppies', 'are', 'across', 'flat', 'flat', 'in', 'a', '.', '<eos>']\n"
          ],
          "name": "stdout"
        }
      ]
    },
    {
      "cell_type": "code",
      "metadata": {
        "id": "czo6H5-i0zOZ",
        "colab": {
          "base_uri": "https://localhost:8080/",
          "height": 592
        },
        "outputId": "093b0cb4-8457-485d-b6b3-ed9fb4552a8e"
      },
      "source": [
        "display_attention(src, translation, attention)"
      ],
      "execution_count": 58,
      "outputs": [
        {
          "output_type": "display_data",
          "data": {
            "image/png": "[encoded data removed]",
            "text/plain": [
              "<Figure size 720x720 with 1 Axes>"
            ]
          },
          "metadata": {
            "tags": [],
            "needs_background": "light"
          }
        }
      ]
    },
    {
      "cell_type": "markdown",
      "metadata": {
        "id": "TEwe2nyJXezH"
      },
      "source": [
        "## Beam Search and Nucleus Examples for comparison"
      ]
    },
    {
      "cell_type": "markdown",
      "metadata": {
        "id": "JA58mb6YYN6r"
      },
      "source": [
        "### Sample 1"
      ]
    },
    {
      "cell_type": "code",
      "metadata": {
        "colab": {
          "base_uri": "https://localhost:8080/"
        },
        "id": "zxLXVss0Xv2R",
        "outputId": "dc6b5b3e-da78-4c01-db08-98488d372017"
      },
      "source": [
        "example_idx = 340\n",
        "\n",
        "src = vars(train_data.examples[example_idx])['src']\n",
        "trg = vars(train_data.examples[example_idx])['trg']\n",
        "\n",
        "print(f'src = {src}')\n",
        "print(f'trg = {trg}')"
      ],
      "execution_count": 122,
      "outputs": [
        {
          "output_type": "stream",
          "text": [
            "src = ['eine', 'person', 'steht', 'auf', 'einem', 'bauwerk', 'auf', 'dem', 'see', '.']\n",
            "trg = ['a', 'person', 'stands', 'on', 'a', 'structure', 'on', 'the', 'lake', '.']\n"
          ],
          "name": "stdout"
        }
      ]
    },
    {
      "cell_type": "code",
      "metadata": {
        "colab": {
          "base_uri": "https://localhost:8080/"
        },
        "id": "qeh6HQzKX0yw",
        "outputId": "4ad81041-02ff-4e8c-ea97-d50f75b54db5"
      },
      "source": [
        "translation, attention = translate_sentence(src,SRC,TRG,model,device)\n",
        "print(f'predicted trg = {translation}')"
      ],
      "execution_count": 60,
      "outputs": [
        {
          "output_type": "stream",
          "text": [
            "predicted trg = ['a', 'person', 'standing', 'on', 'a', 'structure', 'on', 'the', 'lake', '.', '<eos>']\n"
          ],
          "name": "stdout"
        }
      ]
    },
    {
      "cell_type": "code",
      "metadata": {
        "colab": {
          "base_uri": "https://localhost:8080/"
        },
        "id": "c0Ql95lsHz3c",
        "outputId": "0acd63ad-ca73-465e-cfe9-8e16abcf70ca"
      },
      "source": [
        "translation= translate_sentence_beamsearch(src, SRC, TRG, model, device, 50, 5, alpha = 0.7 )\n",
        "words = [TRG.vocab.itos[i] for i in translation[0][0]][1:]\n",
        "print(f'predicted trg = {words}')"
      ],
      "execution_count": 62,
      "outputs": [
        {
          "output_type": "stream",
          "text": [
            "predicted trg = ['a', 'person', 'stands', 'on', 'a', 'structure', 'on', 'the', 'lake', '.', '<eos>']\n"
          ],
          "name": "stdout"
        }
      ]
    },
    {
      "cell_type": "code",
      "metadata": {
        "colab": {
          "base_uri": "https://localhost:8080/"
        },
        "id": "l8TyWbEvZwOW",
        "outputId": "0aa3ef7a-f36c-48ea-9f2d-821b87e52fe3"
      },
      "source": [
        "translation = translate_sentence_nucleus(src, SRC, TRG, model, device, 50, 0.3, 1)\n",
        "print(f'predicted trg = {translation}')"
      ],
      "execution_count": 125,
      "outputs": [
        {
          "output_type": "stream",
          "text": [
            "predicted trg = ['a', 'person', 'stands', 'on', 'a', 'structure', 'on', 'the', 'lake', '.', '<eos>']\n"
          ],
          "name": "stdout"
        }
      ]
    },
    {
      "cell_type": "markdown",
      "metadata": {
        "id": "Gh-YLTUdYTV6"
      },
      "source": [
        "### Sample 2"
      ]
    },
    {
      "cell_type": "code",
      "metadata": {
        "colab": {
          "base_uri": "https://localhost:8080/"
        },
        "id": "NVd5X_0iYm3X",
        "outputId": "a4e81cd9-4142-4a0d-8a0f-668b202514e0"
      },
      "source": [
        "example_idx = 232\n",
        "\n",
        "src = vars(train_data.examples[example_idx])['src']\n",
        "trg = vars(train_data.examples[example_idx])['trg']\n",
        "\n",
        "print(f'src = {src}')\n",
        "print(f'trg = {trg}')"
      ],
      "execution_count": 111,
      "outputs": [
        {
          "output_type": "stream",
          "text": [
            "src = ['eine', 'frau', 'in', 'einer', 'blauen', 'jacke', ',', 'die', 'in', 'wassernähe', 'ein', 'braunes', 'pony', 'reitet', '.']\n",
            "trg = ['a', 'woman', 'in', 'a', 'blue', 'jacket', 'rides', 'a', 'brown', 'pony', 'near', 'water', '.']\n"
          ],
          "name": "stdout"
        }
      ]
    },
    {
      "cell_type": "code",
      "metadata": {
        "colab": {
          "base_uri": "https://localhost:8080/"
        },
        "id": "e-G9479wYpLa",
        "outputId": "bf4f9606-b13c-43ed-e031-95c4fdffd72b"
      },
      "source": [
        "translation, attention = translate_sentence(src,SRC,TRG,model,device)\n",
        "print(f'predicted trg = {translation}')"
      ],
      "execution_count": 65,
      "outputs": [
        {
          "output_type": "stream",
          "text": [
            "predicted trg = ['a', 'woman', 'in', 'a', 'blue', 'jacket', 'is', 'a', 'brown', 'pants', '.', '<eos>']\n"
          ],
          "name": "stdout"
        }
      ]
    },
    {
      "cell_type": "code",
      "metadata": {
        "colab": {
          "base_uri": "https://localhost:8080/"
        },
        "id": "NdHZEnWFcAZk",
        "outputId": "53b7c57a-7eb7-4852-a194-3b3475691e32"
      },
      "source": [
        "translation= translate_sentence_beamsearch(src, SRC, TRG, model, device, 20, 5, alpha = 0.7 )\n",
        "words = [TRG.vocab.itos[i] for i in translation[0][0]][1:]\n",
        "print(f'predicted trg = {words}')"
      ],
      "execution_count": 67,
      "outputs": [
        {
          "output_type": "stream",
          "text": [
            "predicted trg = ['a', 'woman', 'in', 'a', 'blue', 'jacket', 'is', 'wearing', 'a', 'brown', 'pony', '.', '<eos>']\n"
          ],
          "name": "stdout"
        }
      ]
    },
    {
      "cell_type": "code",
      "metadata": {
        "colab": {
          "base_uri": "https://localhost:8080/"
        },
        "id": "lQGyu-aqcdTA",
        "outputId": "4597c81b-911b-45c9-b3ff-f157530cb25d"
      },
      "source": [
        "translation = translate_sentence_nucleus(src, SRC, TRG, model, device, 50, 0.3, 1)\n",
        "print(f'predicted trg = {translation}')"
      ],
      "execution_count": 113,
      "outputs": [
        {
          "output_type": "stream",
          "text": [
            "predicted trg = ['a', 'woman', 'in', 'a', 'blue', 'jacket', 'is', 'jumping', 'a', 'brown', 'water', '.', '<eos>']\n"
          ],
          "name": "stdout"
        }
      ]
    },
    {
      "cell_type": "markdown",
      "metadata": {
        "id": "2_4kgryzaJoM"
      },
      "source": [
        "### Sample 3"
      ]
    },
    {
      "cell_type": "code",
      "metadata": {
        "colab": {
          "base_uri": "https://localhost:8080/"
        },
        "id": "mV6zmkgpaT1m",
        "outputId": "66c30cc2-d40d-4578-b686-b02cca5a15bc"
      },
      "source": [
        "example_idx = 225\n",
        "\n",
        "src = vars(train_data.examples[example_idx])['src']\n",
        "trg = vars(train_data.examples[example_idx])['trg']\n",
        "\n",
        "print(f'src = {src}')\n",
        "print(f'trg = {trg}')"
      ],
      "execution_count": 114,
      "outputs": [
        {
          "output_type": "stream",
          "text": [
            "src = ['eine', 'frau', 'in', 'grünem', 'oberteil', 'und', 'jeans', 'kniet', 'auf', 'einer', 'offenen', 'veranda', 'mit', 'einem', 'kaffee', 'in', 'der', 'hand', ',', 'neben', 'ihr', 'ihre', 'handtasche', 'und', 'hinter', 'ihr', 'eine', 'große', 'tür', ',', 'während', 'sie', 'formulare', 'ausfüllt', '.']\n",
            "trg = ['a', 'woman', 'in', 'a', 'green', 'shirt', 'and', 'jeans', 'kneels', 'on', 'a', 'stoop', 'with', 'coffee', 'in', 'hand', ',', 'her', 'purse', 'beside', 'her', 'and', 'a', 'large', 'door', 'behind', 'her', ',', 'as', 'she', 'fills', 'out', 'paperwork', '.']\n"
          ],
          "name": "stdout"
        }
      ]
    },
    {
      "cell_type": "code",
      "metadata": {
        "colab": {
          "base_uri": "https://localhost:8080/"
        },
        "id": "qF9zM_LraYS1",
        "outputId": "46e13f26-e61a-4c61-d7aa-7bfc69aea283"
      },
      "source": [
        "translation, attention = translate_sentence(src,SRC,TRG,model,device)\n",
        "print(f'predicted trg = {translation}')"
      ],
      "execution_count": 77,
      "outputs": [
        {
          "output_type": "stream",
          "text": [
            "predicted trg = ['a', 'woman', 'in', 'a', 'green', 'shirt', 'and', 'jeans', 'is', 'on', 'a', 'with', 'with', 'a', 'a', 'with', 'her', 'her', 'hand', 'her', 'her', 'her', 'her', 'her', 'hand', 'behind', 'her', 'her', '.', '<eos>']\n"
          ],
          "name": "stdout"
        }
      ]
    },
    {
      "cell_type": "code",
      "metadata": {
        "colab": {
          "base_uri": "https://localhost:8080/"
        },
        "id": "zduZEwaCadft",
        "outputId": "9666149d-bbbe-45d8-b2c2-ebf7dc2de1e7"
      },
      "source": [
        "translation= translate_sentence_beamsearch(src, SRC, TRG, model, device, 20, 5, alpha = 0.7 )\n",
        "words = [TRG.vocab.itos[i] for i in translation[0][0]][1:]\n",
        "print(f'predicted trg = {words}')"
      ],
      "execution_count": 78,
      "outputs": [
        {
          "output_type": "stream",
          "text": [
            "predicted trg = ['a', 'woman', 'in', 'a', 'green', 'shirt', 'and', 'jeans', 'kneels', 'on', 'her', 'face', 'with', 'her', 'hand', 'with', 'her', 'hand', 'behind', 'her']\n"
          ],
          "name": "stdout"
        }
      ]
    },
    {
      "cell_type": "code",
      "metadata": {
        "colab": {
          "base_uri": "https://localhost:8080/"
        },
        "id": "RorqYPZBdEX5",
        "outputId": "b5f3f647-7e7a-4746-b728-ce9acb417576"
      },
      "source": [
        "translation = translate_sentence_nucleus(src, SRC, TRG, model, device, 50, 0.3, 1)\n",
        "print(f'predicted trg = {translation}')"
      ],
      "execution_count": 121,
      "outputs": [
        {
          "output_type": "stream",
          "text": [
            "predicted trg = ['a', 'woman', 'in', 'a', 'green', 'shirt', 'and', 'jeans', 'is', 'kneeling', 'on', 'a', 'a', 'with', 'her', 'face', 'with', 'her', 'hand', 'behind', 'her', 'large', 'purse', ',', 'her', 'a', 'her', 'behind', 'her', 'back', '.', '<eos>']\n"
          ],
          "name": "stdout"
        }
      ]
    },
    {
      "cell_type": "markdown",
      "metadata": {
        "id": "3bWzVP4o0zOZ"
      },
      "source": [
        "Translations from the training set could simply be memorized by the model. So it's only fair we look at translations from the validation and testing set too.\n",
        "\n",
        "Starting with the validation set, let's get an example."
      ]
    },
    {
      "cell_type": "markdown",
      "metadata": {
        "id": "xlgSy2ly0zOa"
      },
      "source": [
        "Then let's generate our translation and view the attention.\n",
        "\n",
        "Here, we can see the translation is the same except for swapping *female* with *woman*."
      ]
    },
    {
      "cell_type": "markdown",
      "metadata": {
        "id": "IfR9yVne0zOa"
      },
      "source": [
        "Finally, let's get an example from the test set."
      ]
    },
    {
      "cell_type": "markdown",
      "metadata": {
        "id": "6WY1OSTj0zOb"
      },
      "source": [
        "Again, it produces a slightly different translation than target, a more literal version of the source sentence. It swaps *mountain climbing* for *climbing a mountain*."
      ]
    },
    {
      "cell_type": "code",
      "metadata": {
        "id": "p2k9ukkjKCEF"
      },
      "source": [
        "example_idx = 20\n",
        "\n",
        "src = vars(test_data.examples[example_idx])['src']\n",
        "trg = vars(test_data.examples[example_idx])['trg']\n",
        "\n",
        "print(f'src = {src}')\n",
        "print(f'trg = {trg}')\n",
        "\n",
        "translation, attention = translate_sentence(src, SRC, TRG, model, device)\n",
        "\n",
        "print(f'predicted trg = {translation}')\n",
        "\n",
        "display_attention(src, translation, attention)"
      ],
      "execution_count": null,
      "outputs": []
    },
    {
      "cell_type": "markdown",
      "metadata": {
        "id": "BUNmVtnW0zOc"
      },
      "source": [
        "## BLEU\n",
        "\n",
        "Previously we have only cared about the loss/perplexity of the model. However there metrics that are specifically designed for measuring the quality of a translation - the most popular is *BLEU*. Without going into too much detail, BLEU looks at the overlap in the predicted and actual target sequences in terms of their n-grams. It will give us a number between 0 and 1 for each sequence, where 1 means there is perfect overlap, i.e. a perfect translation, although is usually shown between 0 and 100. BLEU was designed for multiple candidate translations per source sequence, however in this dataset we only have one candidate per source.\n",
        "\n",
        "We define a `calculate_bleu` function which calculates the BLEU score over a provided TorchText dataset. This function creates a corpus of the actual and predicted translation for each source sentence and then calculates the BLEU score."
      ]
    },
    {
      "cell_type": "code",
      "metadata": {
        "id": "FdBTPDRV0zOc"
      },
      "source": [
        "from torchtext.data.metrics import bleu_score\n",
        "\n",
        "def calculate_bleu(data, src_field, trg_field, model, device, max_len = 50):\n",
        "    \n",
        "    trgs = []\n",
        "    pred_trgs = []\n",
        "    \n",
        "    for datum in data:\n",
        "        \n",
        "        src = vars(datum)['src']\n",
        "        trg = vars(datum)['trg']\n",
        "        \n",
        "        pred_trg, _ = translate_sentence(src, src_field, trg_field, model, device, max_len)\n",
        "        \n",
        "        #cut off <eos> token\n",
        "        pred_trg = pred_trg[:-1]\n",
        "        \n",
        "        pred_trgs.append(pred_trg)\n",
        "        trgs.append([trg])\n",
        "        \n",
        "    return bleu_score(pred_trgs, trgs)"
      ],
      "execution_count": null,
      "outputs": []
    },
    {
      "cell_type": "code",
      "metadata": {
        "id": "ej8-STVFTShK"
      },
      "source": [
        "from torchtext.data.metrics import bleu_score\n",
        "\n",
        "def calculate_bleu_bs(data, src_field, trg_field, model, device, max_len = 50, beam_width = 2, alpha = 1):\n",
        "    \n",
        "    trgs = []\n",
        "    pred_trgs = []\n",
        "    output_log_likelihood = 0\n",
        "    i = 1 \n",
        "    for datum in data:\n",
        "        if i % 100 == 0:\n",
        "          print('{}/{} Done'.format(i,len(data)))\n",
        "        src = vars(datum)['src']\n",
        "        trg = vars(datum)['trg']\n",
        "        \n",
        "        pred_trg = translate_sentence_beamsearch(src, src_field, trg_field, model, device, max_len, beam_width, alpha)\n",
        "        \n",
        "        output_log_likelihood += pred_trg[0][1]\n",
        "        #print(output_log_likelihood, pred_trg[0][1])\n",
        "        word = [TRG.vocab.itos[i] for i in pred_trg[0][0]]\n",
        "        \n",
        "        #cut off <sos>, <eos> token\n",
        "        word = word[1:-1]\n",
        "        pred_trgs.append(word)\n",
        "        trgs.append([trg])\n",
        "        i = i + 1\n",
        "    return bleu_score(pred_trgs, trgs), output_log_likelihood/len(data)"
      ],
      "execution_count": null,
      "outputs": []
    },
    {
      "cell_type": "code",
      "metadata": {
        "id": "TGc8Pgpu6oOq"
      },
      "source": [
        "from torchtext.data.metrics import bleu_score\n",
        "\n",
        "def calculate_bleu_nucleus(data, src_field, trg_field, model, device, max_len = 50, top_p = 0.9, temperature = 1):\n",
        "    \n",
        "    trgs = []\n",
        "    pred_trgs = []\n",
        "    \n",
        "    for datum in data:\n",
        "        \n",
        "        src = vars(datum)['src']\n",
        "        trg = vars(datum)['trg']\n",
        "        \n",
        "        pred_trg, _ = translate_sentence_nucleus(src, src_field, trg_field, model, device, max_len, top_p = top_p, temperature= temperature)\n",
        "        \n",
        "        #cut off <eos> token\n",
        "        pred_trg = pred_trg[:-1]\n",
        "        \n",
        "        pred_trgs.append(pred_trg)\n",
        "        trgs.append([trg])\n",
        "        \n",
        "    return bleu_score(pred_trgs, trgs)"
      ],
      "execution_count": null,
      "outputs": []
    },
    {
      "cell_type": "markdown",
      "metadata": {
        "id": "yYAY2OaTfSlu"
      },
      "source": [
        "###BLEU For Test Set with Greedy"
      ]
    },
    {
      "cell_type": "code",
      "metadata": {
        "colab": {
          "base_uri": "https://localhost:8080/"
        },
        "id": "1bf2LdlOx4Ks",
        "outputId": "245aaac7-bce8-4339-e3f9-1cf3a7640f97"
      },
      "source": [
        "#BLEU For Entire Test set with greedy translation function\n",
        "bleu_score = calculate_bleu(test_data, SRC, TRG, model, device, 50)\n",
        "print(\"Greedy Search\")\n",
        "print(f'BLEU score = {bleu_score_bs*100:.2f}')"
      ],
      "execution_count": null,
      "outputs": [
        {
          "output_type": "stream",
          "text": [
            "Greedy Search\n",
            "BLEU score = 28.88\n"
          ],
          "name": "stdout"
        }
      ]
    },
    {
      "cell_type": "markdown",
      "metadata": {
        "id": "GLcryTKdevmI"
      },
      "source": [
        "###BLEU For Test Set with Nucleus Sampling\n",
        "\n",
        "---\n",
        "\n",
        "top_p = 0.1,0.2,0.3,0.4,0.5,0.6,0.7,0.8,0.9\n",
        "Temperature =0.1, 0.5, 1, 5, 10"
      ]
    },
    {
      "cell_type": "code",
      "metadata": {
        "colab": {
          "base_uri": "https://localhost:8080/"
        },
        "id": "yevKa7Ud6uH9",
        "outputId": "8e69fce3-0d3f-4aec-97cc-ddd244f8fd22"
      },
      "source": [
        "#BLEU For Entire Test set with nucleus sampling translation function with diff top_p values\n",
        "l = [0.1,0.2,0.3,0.4,0.5,0.6,0.7,0.8,0.9]\n",
        "t = [0.1,0.5,1]\n",
        "#t1[5,10]\n",
        "#t = [10]\n",
        "for j in range(len(t)):\n",
        "  print(f'For temperature = {t[j]}')\n",
        "  for i in range(len(l)):\n",
        "    bleu_score_ns = calculate_bleu_nucleus(test_data, SRC, TRG, model, device, max_len=50, top_p = l[i], temperature = t[j])\n",
        "\n",
        "    print(f'BLEU score for top_p {l[i]} = {bleu_score_ns*100:.2f}')"
      ],
      "execution_count": null,
      "outputs": [
        {
          "output_type": "stream",
          "text": [
            "For temperature = 0.1\n",
            "BLEU score for top_p 0.1 = 28.88\n",
            "BLEU score for top_p 0.2 = 28.95\n",
            "BLEU score for top_p 0.3 = 29.00\n",
            "BLEU score for top_p 0.4 = 28.88\n",
            "BLEU score for top_p 0.5 = 28.87\n",
            "BLEU score for top_p 0.6 = 28.91\n",
            "BLEU score for top_p 0.7 = 28.73\n",
            "BLEU score for top_p 0.8 = 28.79\n",
            "BLEU score for top_p 0.9 = 28.74\n",
            "For temperature = 0.5\n",
            "BLEU score for top_p 0.1 = 28.85\n",
            "BLEU score for top_p 0.2 = 29.03\n",
            "BLEU score for top_p 0.3 = 28.26\n",
            "BLEU score for top_p 0.4 = 28.24\n",
            "BLEU score for top_p 0.5 = 27.56\n",
            "BLEU score for top_p 0.6 = 27.09\n",
            "BLEU score for top_p 0.7 = 26.16\n",
            "BLEU score for top_p 0.8 = 25.75\n",
            "BLEU score for top_p 0.9 = 26.01\n",
            "For temperature = 1\n",
            "BLEU score for top_p 0.1 = 28.87\n",
            "BLEU score for top_p 0.2 = 28.86\n",
            "BLEU score for top_p 0.3 = 28.20\n",
            "BLEU score for top_p 0.4 = 27.74\n",
            "BLEU score for top_p 0.5 = 26.74\n",
            "BLEU score for top_p 0.6 = 24.54\n",
            "BLEU score for top_p 0.7 = 22.81\n",
            "BLEU score for top_p 0.8 = 20.78\n",
            "BLEU score for top_p 0.9 = 18.57\n"
          ],
          "name": "stdout"
        }
      ]
    },
    {
      "cell_type": "code",
      "metadata": {
        "colab": {
          "base_uri": "https://localhost:8080/"
        },
        "id": "rx6e92Gspfrk",
        "outputId": "9359dfa9-faf3-4aaa-f0ab-aac649683a0c"
      },
      "source": [
        "#BLEU For Entire Test set with nucleus sampling translation function with diff top_p values\n",
        "l = [0.1,0.2,0.3,0.4,0.5,0.6,0.7,0.8,0.9]\n",
        "#t = [0.1,0.5,1]\n",
        "t =[5,10]\n",
        "#t = [10]\n",
        "for j in range(len(t)):\n",
        "  print(f'For temperature = {t[j]}')\n",
        "  for i in range(len(l)):\n",
        "    bleu_score_ns = calculate_bleu_nucleus(test_data, SRC, TRG, model, device, max_len=50, top_p = l[i], temperature = t[j])\n",
        "\n",
        "    print(f'BLEU score for top_p {l[i]} = {bleu_score_ns*100:.2f}')"
      ],
      "execution_count": null,
      "outputs": [
        {
          "output_type": "stream",
          "text": [
            "For temperature = 5\n",
            "BLEU score for top_p 0.1 = 28.85\n",
            "BLEU score for top_p 0.2 = 29.13\n",
            "BLEU score for top_p 0.3 = 28.29\n",
            "BLEU score for top_p 0.4 = 26.72\n",
            "BLEU score for top_p 0.5 = 24.77\n",
            "BLEU score for top_p 0.6 = 22.12\n",
            "BLEU score for top_p 0.7 = 18.15\n",
            "BLEU score for top_p 0.8 = 14.28\n",
            "BLEU score for top_p 0.9 = 8.34\n",
            "For temperature = 10\n",
            "BLEU score for top_p 0.1 = 28.79\n",
            "BLEU score for top_p 0.2 = 29.08\n",
            "BLEU score for top_p 0.3 = 28.16\n",
            "BLEU score for top_p 0.4 = 26.77\n",
            "BLEU score for top_p 0.5 = 24.82\n",
            "BLEU score for top_p 0.6 = 22.03\n",
            "BLEU score for top_p 0.7 = 18.40\n",
            "BLEU score for top_p 0.8 = 13.13\n",
            "BLEU score for top_p 0.9 = 7.61\n"
          ],
          "name": "stdout"
        }
      ]
    },
    {
      "cell_type": "markdown",
      "metadata": {
        "id": "P3DeYle6L45R"
      },
      "source": [
        "###BLEU For Test Set with Beam Search \n",
        "\n",
        "---\n",
        "\n",
        "Beam Width = 1, 2, 3, 5\n",
        "Alpha = 0.7, 1 "
      ]
    },
    {
      "cell_type": "code",
      "metadata": {
        "colab": {
          "base_uri": "https://localhost:8080/"
        },
        "id": "ceTaqEpVw7tD",
        "outputId": "f75463cd-6de3-4f92-fd99-87b911651893"
      },
      "source": [
        "bleu_score_bs, output_log_l = calculate_bleu_bs(test_data, SRC, TRG, model, device, max_len = 50, beam_width = 1, alpha = 1)\n",
        "print(\"Beam Search\")\n",
        "print(f'BLEU score = {bleu_score_bs*100:.2f} | Avg Output Likelihood = {output_log_l:.2f}')"
      ],
      "execution_count": null,
      "outputs": [
        {
          "output_type": "stream",
          "text": [
            "100/1000 Done\n",
            "200/1000 Done\n",
            "300/1000 Done\n",
            "400/1000 Done\n",
            "500/1000 Done\n",
            "600/1000 Done\n",
            "700/1000 Done\n",
            "800/1000 Done\n",
            "900/1000 Done\n",
            "1000/1000 Done\n",
            "Beam Search\n",
            "BLEU score = 28.88 | Avg Output Likelihood = -0.79\n"
          ],
          "name": "stdout"
        }
      ]
    },
    {
      "cell_type": "code",
      "metadata": {
        "colab": {
          "base_uri": "https://localhost:8080/"
        },
        "id": "CLbPaozdXvxM",
        "outputId": "ab066227-da2c-4b94-8348-7365e1becac8"
      },
      "source": [
        "bleu_score_bs, output_log_l = calculate_bleu_bs(test_data, SRC, TRG, model, device, max_len = 50, beam_width = 2, alpha = 1)\n",
        "print(\"Beam Search\")\n",
        "print(f'BLEU score = {bleu_score_bs*100:.2f} | Avg Output Likelihood = {output_log_l:.2f}')"
      ],
      "execution_count": null,
      "outputs": [
        {
          "output_type": "stream",
          "text": [
            "100/1000 Done\n",
            "200/1000 Done\n",
            "300/1000 Done\n",
            "400/1000 Done\n",
            "500/1000 Done\n",
            "600/1000 Done\n",
            "700/1000 Done\n",
            "800/1000 Done\n",
            "900/1000 Done\n",
            "1000/1000 Done\n",
            "Beam Search\n",
            "BLEU score = 30.59 | Avg Output Likelihood = -0.75\n"
          ],
          "name": "stdout"
        }
      ]
    },
    {
      "cell_type": "code",
      "metadata": {
        "colab": {
          "base_uri": "https://localhost:8080/"
        },
        "id": "jF5GvEMTh3bt",
        "outputId": "4b4e71e6-613c-4544-ab19-3f9470a7e552"
      },
      "source": [
        "bleu_score_bs, output_log_l = calculate_bleu_bs(test_data, SRC, TRG, model, device, max_len = 50, beam_width = 3, alpha = 1)\n",
        "print(\"Beam Search\")\n",
        "print(f'BLEU score = {bleu_score_bs*100:.2f} | Avg Output Likelihood = {output_log_l:.2f}')"
      ],
      "execution_count": null,
      "outputs": [
        {
          "output_type": "stream",
          "text": [
            "100/1000 Done\n",
            "200/1000 Done\n",
            "300/1000 Done\n",
            "400/1000 Done\n",
            "500/1000 Done\n",
            "600/1000 Done\n",
            "700/1000 Done\n",
            "800/1000 Done\n",
            "900/1000 Done\n",
            "1000/1000 Done\n",
            "Beam Search\n",
            "BLEU score = 31.17 | Avg Output Likelihood = -0.73\n"
          ],
          "name": "stdout"
        }
      ]
    },
    {
      "cell_type": "code",
      "metadata": {
        "id": "8Klde31uW7Ud",
        "colab": {
          "base_uri": "https://localhost:8080/"
        },
        "outputId": "1459e058-121b-4f20-fcb0-c088b6656ac9"
      },
      "source": [
        "bleu_score_bs, output_log_l = calculate_bleu_bs(test_data, SRC, TRG, model, device, max_len = 50, beam_width = 5, alpha = 1)\n",
        "print(\"Beam Search\")\n",
        "print(f'BLEU score = {bleu_score_bs*100:.2f} | Avg Output Likelihood = {output_log_l:.2f}')"
      ],
      "execution_count": null,
      "outputs": [
        {
          "output_type": "stream",
          "text": [
            "100/1000 Done\n",
            "200/1000 Done\n",
            "300/1000 Done\n",
            "400/1000 Done\n",
            "500/1000 Done\n",
            "600/1000 Done\n",
            "700/1000 Done\n",
            "800/1000 Done\n",
            "900/1000 Done\n",
            "1000/1000 Done\n",
            "Beam Search\n",
            "BLEU score = 31.33 | Avg Output Likelihood = -0.72\n"
          ],
          "name": "stdout"
        }
      ]
    },
    {
      "cell_type": "code",
      "metadata": {
        "colab": {
          "base_uri": "https://localhost:8080/"
        },
        "id": "pPORMydZTnHG",
        "outputId": "a51efcb1-51bc-43dd-f629-973c8136748c"
      },
      "source": [
        "bleu_score_bs, output_log_l = calculate_bleu_bs(test_data, SRC, TRG, model, device, max_len = 50, beam_width = 1, alpha = 0.7)\n",
        "print(\"Beam Search\")\n",
        "print(f'BLEU score = {bleu_score_bs*100:.2f} | Avg Output Likelihood = {output_log_l:.2f}')"
      ],
      "execution_count": null,
      "outputs": [
        {
          "output_type": "stream",
          "text": [
            "100/1000 Done\n",
            "200/1000 Done\n",
            "300/1000 Done\n",
            "400/1000 Done\n",
            "500/1000 Done\n",
            "600/1000 Done\n",
            "700/1000 Done\n",
            "800/1000 Done\n",
            "900/1000 Done\n",
            "1000/1000 Done\n",
            "Beam Search\n",
            "BLEU score = 28.88 | Avg Output Likelihood = -1.73\n"
          ],
          "name": "stdout"
        }
      ]
    },
    {
      "cell_type": "code",
      "metadata": {
        "colab": {
          "base_uri": "https://localhost:8080/"
        },
        "id": "Nnd36Zn_Knwm",
        "outputId": "defba03f-b35c-4119-d6b4-62c1b46afc6a"
      },
      "source": [
        "bleu_score_bs, output_log_l = calculate_bleu_bs(test_data, SRC, TRG, model, device, max_len = 50, beam_width = 2, alpha = 0.7)\n",
        "print(\"Beam Search\")\n",
        "print(f'BLEU score = {bleu_score_bs*100:.2f} | Avg Output Likelihood = {output_log_l:.2f}')"
      ],
      "execution_count": null,
      "outputs": [
        {
          "output_type": "stream",
          "text": [
            "100/1000 Done\n",
            "200/1000 Done\n",
            "300/1000 Done\n",
            "400/1000 Done\n",
            "500/1000 Done\n",
            "600/1000 Done\n",
            "700/1000 Done\n",
            "800/1000 Done\n",
            "900/1000 Done\n",
            "1000/1000 Done\n",
            "Beam Search\n",
            "BLEU score = 30.46 | Avg Output Likelihood = -1.63\n"
          ],
          "name": "stdout"
        }
      ]
    },
    {
      "cell_type": "code",
      "metadata": {
        "colab": {
          "base_uri": "https://localhost:8080/"
        },
        "id": "j6FUIq9Nc5HD",
        "outputId": "aeff27e4-5120-4b98-c6f2-d77028a74bf2"
      },
      "source": [
        "bleu_score_bs, output_log_l = calculate_bleu_bs(test_data, SRC, TRG, model, device, max_len = 50, beam_width = 3, alpha = 0.7)\n",
        "print(\"Beam Search\")\n",
        "print(f'BLEU score = {bleu_score_bs*100:.2f} | Avg Output Likelihood = {output_log_l:.2f}')"
      ],
      "execution_count": null,
      "outputs": [
        {
          "output_type": "stream",
          "text": [
            "100/1000 Done\n",
            "200/1000 Done\n",
            "300/1000 Done\n",
            "400/1000 Done\n",
            "500/1000 Done\n",
            "600/1000 Done\n",
            "700/1000 Done\n",
            "800/1000 Done\n",
            "900/1000 Done\n",
            "1000/1000 Done\n",
            "Beam Search\n",
            "BLEU score = 30.88 | Avg Output Likelihood = -1.60\n"
          ],
          "name": "stdout"
        }
      ]
    },
    {
      "cell_type": "code",
      "metadata": {
        "colab": {
          "base_uri": "https://localhost:8080/"
        },
        "id": "i8Zxt49r7r5u",
        "outputId": "6afdefc5-6f67-450d-b997-d96584e8c4f9"
      },
      "source": [
        "bleu_score_bs, output_log_l = calculate_bleu_bs(test_data, SRC, TRG, model, device, max_len = 50, beam_width = 5, alpha = 0.7)\n",
        "print(\"Beam Search\")\n",
        "print(f'BLEU score = {bleu_score_bs*100:.2f} | Avg Output Likelihood = {output_log_l:.2f}')"
      ],
      "execution_count": null,
      "outputs": [
        {
          "output_type": "stream",
          "text": [
            "100/1000 Done\n",
            "200/1000 Done\n",
            "300/1000 Done\n",
            "400/1000 Done\n",
            "500/1000 Done\n",
            "600/1000 Done\n",
            "700/1000 Done\n",
            "800/1000 Done\n",
            "900/1000 Done\n",
            "1000/1000 Done\n",
            "Beam Search\n",
            "BLEU score = 30.97 | Avg Output Likelihood = -1.58\n"
          ],
          "name": "stdout"
        }
      ]
    }
  ]
}